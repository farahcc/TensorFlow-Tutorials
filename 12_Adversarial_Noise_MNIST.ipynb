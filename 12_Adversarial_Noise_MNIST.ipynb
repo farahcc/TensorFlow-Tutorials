{
 "cells": [
  {
   "cell_type": "markdown",
   "metadata": {},
   "source": [
    "# TensorFlow Tutorial #12\n",
    "# Adversarial Noise for MNIST\n",
    "\n",
    "by [Magnus Erik Hvass Pedersen](http://www.hvass-labs.org/)\n",
    "/ [GitHub](https://github.com/Hvass-Labs/TensorFlow-Tutorials) / [Videos on YouTube](https://www.youtube.com/playlist?list=PL9Hr9sNUjfsmEu1ZniY0XpHSzl5uihcXZ)"
   ]
  },
  {
   "cell_type": "markdown",
   "metadata": {},
   "source": [
    "## WARNING!\n",
    "\n",
    "**This tutorial does not work with TensorFlow v.2 and it would take too much effort to update this tutorial to the new API.**"
   ]
  },
  {
   "cell_type": "markdown",
   "metadata": {},
   "source": [
    "## Introduction\n",
    "\n",
    "The previous Tutorial #11 showed how to find so-called adversarial examples for a state-of-the-art neural network, which caused the network to mis-classify images even though they looked identical to the human eye. For example, an image of a parrot became mis-classified as a bookcase when adding the adversarial noise, but the image looked completely unchanged to the human eye.\n",
    "\n",
    "The adversarial noise in Tutorial #11 was found through an optimization process for each individual image. Because the noise was specialized for each image, it may not generalize and have any effect on other images.\n",
    "\n",
    "In this tutorial we will instead find adversarial noise that causes nearly all input images to become mis-classified as a desired target-class. The MNIST data-set of hand-written digits is used as an example. The adversarial noise is now clearly visible to the human eye, but the digits are still easily identified by a human, while the neural network mis-classifies nearly all the images.\n",
    "\n",
    "In this tutorial we will also try and make the neural network immune to adversarial noise.\n",
    "\n",
    "Tutorial #11 used NumPy for the adversarial optimization. In this tutorial we will show how to implement the optimization process directly in TensorFlow. This might be faster, especially when using a GPU, because it does not need to copy data to and from the GPU in each iteration.\n",
    "\n",
    "It is recommended that you first study Tutorial #11. You should also be familiar with TensorFlow in general, see e.g. Tutorials #01 and #02."
   ]
  },
  {
   "cell_type": "markdown",
   "metadata": {},
   "source": [
    "## Flowchart"
   ]
  },
  {
   "cell_type": "markdown",
   "metadata": {},
   "source": [
    "The following chart shows roughly how the data flows in the Convolutional Neural Network that is implemented below.\n",
    "\n",
    "![Flowchart](images/12_adversarial_noise_flowchart.png)\n",
    "\n",
    "This example shows an input image with a hand-written 7-digit. The adversarial noise is then added to the image. Red noise-pixels are positive and make the input image darker in those pixels, while blue noise-pixels are negative and make the input lighter in those pixels.\n",
    "\n",
    "The noisy image is then fed to the neural network which results in a predicted class-number. In this case the adversarial noise fools the network into believing that the 7-digit shows a 3-digit. The noise is clearly visible to humans, but the 7-digit is still easily identified by a human.\n",
    "\n",
    "The remarkable thing here, is that a single noise-pattern causes the neural network to mis-classify almost all input images to a desired target-class.\n",
    "\n",
    "There are two separate optimization procedures in this neural network. First we optimize the variables of the neural network so as to classify images in the training-set. This is the normal optimization procedure for neural networks. Once the classification accuracy is good enough, we switch to the second optimization procedure, which tries to find a single pattern of adversarial noise, that causes all input images to be mis-classified as the given target-class.\n",
    "\n",
    "The two optimization procedures are completely separate. The first procedure only modifies the variables of the neural network, while the second procedure only modifies the adversarial noise."
   ]
  },
  {
   "cell_type": "markdown",
   "metadata": {},
   "source": [
    "## Imports"
   ]
  },
  {
   "cell_type": "code",
   "execution_count": 2,
   "metadata": {},
   "outputs": [],
   "source": [
    "%matplotlib inline\n",
    "import matplotlib.pyplot as plt\n",
    "import tensorflow as tf\n",
    "import numpy as np\n",
    "from sklearn.metrics import confusion_matrix\n",
    "import time\n",
    "from datetime import timedelta\n",
    "import math"
   ]
  },
  {
   "cell_type": "markdown",
   "metadata": {},
   "source": [
    "This was developed using Python 3.6 (Anaconda) and TensorFlow version:"
   ]
  },
  {
   "cell_type": "code",
   "execution_count": 3,
   "metadata": {},
   "outputs": [
    {
     "data": {
      "text/plain": [
       "'1.15.0'"
      ]
     },
     "execution_count": 3,
     "metadata": {},
     "output_type": "execute_result"
    }
   ],
   "source": [
    "tf.__version__"
   ]
  },
  {
   "cell_type": "markdown",
   "metadata": {},
   "source": [
    "## Load Data"
   ]
  },
  {
   "cell_type": "markdown",
   "metadata": {},
   "source": [
    "The MNIST data-set is about 12 MB and will be downloaded automatically if it is not located in the given path."
   ]
  },
  {
   "cell_type": "code",
   "execution_count": 4,
   "metadata": {},
   "outputs": [],
   "source": [
    "from mnist import MNIST\n",
    "data = MNIST(data_dir=\"data/MNIST/\")"
   ]
  },
  {
   "cell_type": "markdown",
   "metadata": {},
   "source": [
    "The MNIST data-set has now been loaded and consists of 70.000 images and class-numbers for the images. The data-set is split into 3 mutually exclusive sub-sets. We will only use the training and test-sets in this tutorial."
   ]
  },
  {
   "cell_type": "code",
   "execution_count": 5,
   "metadata": {},
   "outputs": [
    {
     "name": "stdout",
     "output_type": "stream",
     "text": [
      "Size of:\n",
      "- Training-set:\t\t55000\n",
      "- Validation-set:\t5000\n",
      "- Test-set:\t\t10000\n"
     ]
    }
   ],
   "source": [
    "print(\"Size of:\")\n",
    "print(\"- Training-set:\\t\\t{}\".format(data.num_train))\n",
    "print(\"- Validation-set:\\t{}\".format(data.num_val))\n",
    "print(\"- Test-set:\\t\\t{}\".format(data.num_test))"
   ]
  },
  {
   "cell_type": "markdown",
   "metadata": {},
   "source": [
    "Copy some of the data-dimensions for convenience."
   ]
  },
  {
   "cell_type": "code",
   "execution_count": 6,
   "metadata": {},
   "outputs": [],
   "source": [
    "# The number of pixels in each dimension of an image.\n",
    "img_size = data.img_size\n",
    "\n",
    "# The images are stored in one-dimensional arrays of this length.\n",
    "img_size_flat = data.img_size_flat\n",
    "\n",
    "# Tuple with height and width of images used to reshape arrays.\n",
    "img_shape = data.img_shape\n",
    "\n",
    "# Number of classes, one class for each of 10 digits.\n",
    "num_classes = data.num_classes\n",
    "\n",
    "# Number of colour channels for the images: 1 channel for gray-scale.\n",
    "num_channels = data.num_channels"
   ]
  },
  {
   "cell_type": "markdown",
   "metadata": {},
   "source": [
    "### Helper-function for plotting images"
   ]
  },
  {
   "cell_type": "markdown",
   "metadata": {},
   "source": [
    "Function used to plot 9 images in a 3x3 grid, and writing the true and predicted classes below each image. If the noise is supplied then it is added to all images."
   ]
  },
  {
   "cell_type": "code",
   "execution_count": 7,
   "metadata": {},
   "outputs": [],
   "source": [
    "def plot_images(images, cls_true, cls_pred=None, noise=0.0):\n",
    "    assert len(images) == len(cls_true) == 9\n",
    "    \n",
    "    # Create figure with 3x3 sub-plots.\n",
    "    fig, axes = plt.subplots(3, 3)\n",
    "    fig.subplots_adjust(hspace=0.3, wspace=0.3)\n",
    "\n",
    "    for i, ax in enumerate(axes.flat):\n",
    "        # Get the i'th image and reshape the array.\n",
    "        image = images[i].reshape(img_shape)\n",
    "        \n",
    "        # Add the adversarial noise to the image.\n",
    "        image += noise\n",
    "        \n",
    "        # Ensure the noisy pixel-values are between 0 and 1.\n",
    "        image = np.clip(image, 0.0, 1.0)\n",
    "\n",
    "        # Plot image.\n",
    "        ax.imshow(image,\n",
    "                  cmap='binary', interpolation='nearest')\n",
    "\n",
    "        # Show true and predicted classes.\n",
    "        if cls_pred is None:\n",
    "            xlabel = \"True: {0}\".format(cls_true[i])\n",
    "        else:\n",
    "            xlabel = \"True: {0}, Pred: {1}\".format(cls_true[i], cls_pred[i])\n",
    "\n",
    "        # Show the classes as the label on the x-axis.\n",
    "        ax.set_xlabel(xlabel)\n",
    "        \n",
    "        # Remove ticks from the plot.\n",
    "        ax.set_xticks([])\n",
    "        ax.set_yticks([])\n",
    "    \n",
    "    # Ensure the plot is shown correctly with multiple plots\n",
    "    # in a single Notebook cell.\n",
    "    plt.show()"
   ]
  },
  {
   "cell_type": "markdown",
   "metadata": {},
   "source": [
    "### Plot a few images to see if data is correct"
   ]
  },
  {
   "cell_type": "code",
   "execution_count": 8,
   "metadata": {},
   "outputs": [
    {
     "data": {
      "image/png": "[encoded data removed]",
      "text/plain": [
       "<Figure size 432x288 with 9 Axes>"
      ]
     },
     "metadata": {},
     "output_type": "display_data"
    }
   ],
   "source": [
    "# Get the first images from the test-set.\n",
    "images = data.x_test[0:9]\n",
    "\n",
    "# Get the true classes for those images.\n",
    "cls_true = data.y_test_cls[0:9]\n",
    "\n",
    "# Plot the images and labels using our helper-function above.\n",
    "plot_images(images=images, cls_true=cls_true)"
   ]
  },
  {
   "cell_type": "markdown",
   "metadata": {},
   "source": [
    "## TensorFlow Graph"
   ]
  },
  {
   "cell_type": "markdown",
   "metadata": {},
   "source": [
    "The computational graph for the neural network will now be constructed using TensorFlow and PrettyTensor. As usual, we need to create placeholder variables for feeding images into the graph and then we add the adversarial noise to the images. The noisy images are then used as input to a convolutional neural network.\n",
    "\n",
    "There are two separate optimization procedures for this network. A normal optimization procedure for the variables of the neural network itself, and another optimization procedure for the adversarial noise. Both optimization procedures are implemented directly in TensorFlow."
   ]
  },
  {
   "cell_type": "markdown",
   "metadata": {},
   "source": [
    "### Placeholder variables"
   ]
  },
  {
   "cell_type": "markdown",
   "metadata": {},
   "source": [
    "Placeholder variables provide the input to the computational graph in TensorFlow that we may change each time we execute the graph. We call this feeding the placeholder variables.\n",
    "\n",
    "First we define the placeholder variable for the input images. This allows us to change the images that are input to the TensorFlow graph. This is a so-called tensor, which just means that it is a multi-dimensional array. The data-type is set to `float32` and the shape is set to `[None, img_size_flat]`, where `None` means that the tensor may hold an arbitrary number of images with each image being a vector of length `img_size_flat`."
   ]
  },
  {
   "cell_type": "code",
   "execution_count": 9,
   "metadata": {},
   "outputs": [],
   "source": [
    "x = tf.placeholder(tf.float32, shape=[None, img_size_flat], name='x')"
   ]
  },
  {
   "cell_type": "markdown",
   "metadata": {},
   "source": [
    "The convolutional layers expect `x` to be encoded as a 4-dim tensor so we have to reshape it so its shape is instead `[num_images, img_height, img_width, num_channels]`. Note that `img_height == img_width == img_size` and `num_images` can be inferred automatically by using -1 for the size of the first dimension. So the reshape operation is:"
   ]
  },
  {
   "cell_type": "code",
   "execution_count": 10,
   "metadata": {},
   "outputs": [],
   "source": [
    "x_image = tf.reshape(x, [-1, img_size, img_size, num_channels])"
   ]
  },
  {
   "cell_type": "markdown",
   "metadata": {},
   "source": [
    "Next we have the placeholder variable for the true labels associated with the images that were input in the placeholder variable `x`. The shape of this placeholder variable is `[None, num_classes]` which means it may hold an arbitrary number of labels and each label is a vector of length `num_classes` which is 10 in this case."
   ]
  },
  {
   "cell_type": "code",
   "execution_count": 11,
   "metadata": {},
   "outputs": [],
   "source": [
    "y_true = tf.placeholder(tf.float32, shape=[None, num_classes], name='y_true')"
   ]
  },
  {
   "cell_type": "markdown",
   "metadata": {},
   "source": [
    "We could also have a placeholder variable for the class-number, but we will instead calculate it using argmax. Note that this is a TensorFlow operator so nothing is calculated at this point."
   ]
  },
  {
   "cell_type": "code",
   "execution_count": 12,
   "metadata": {},
   "outputs": [],
   "source": [
    "y_true_cls = tf.argmax(y_true, axis=1)"
   ]
  },
  {
   "cell_type": "markdown",
   "metadata": {},
   "source": [
    "### Adversarial Noise"
   ]
  },
  {
   "cell_type": "markdown",
   "metadata": {},
   "source": [
    "The pixels in the input image are float-values between 0.0 and 1.0. The adversarial noise is a number that is added or subtracted from the pixels in the input image.\n",
    "\n",
    "The limit of the adversarial noise is set to 0.35 so the noise will be between &plusmn;0.35."
   ]
  },
  {
   "cell_type": "code",
   "execution_count": 13,
   "metadata": {},
   "outputs": [],
   "source": [
    "noise_limit = 0.35"
   ]
  },
  {
   "cell_type": "markdown",
   "metadata": {},
   "source": [
    "The optimizer for the adversarial noise will try and minimize two loss-measures: (1) The normal loss-measure for the neural network, so we will find the noise that gives the best classification accuracy for the adversarial target-class; and (2) the so-called L2-loss-measure which tries to keep the noise as low as possible.\n",
    "\n",
    "The following weight determines how important the L2-loss is compared to the normal loss-measure. An L2-weight close to zero usually works best."
   ]
  },
  {
   "cell_type": "code",
   "execution_count": 14,
   "metadata": {},
   "outputs": [],
   "source": [
    "noise_l2_weight = 0.02"
   ]
  },
  {
   "cell_type": "markdown",
   "metadata": {},
   "source": [
    "When we create the new variable for the noise, we must inform TensorFlow which variable-collections that it belongs to, so we can later inform the two optimizers which variables to update.\n",
    "\n",
    "First we define a name for our new variable-collection. This is just a string."
   ]
  },
  {
   "cell_type": "code",
   "execution_count": 15,
   "metadata": {},
   "outputs": [],
   "source": [
    "ADVERSARY_VARIABLES = 'adversary_variables'"
   ]
  },
  {
   "cell_type": "markdown",
   "metadata": {},
   "source": [
    "Then we create a list of the collections that we want the new noise-variable to belong to. If we add the noise-variable to the collection `tf.GraphKeys.VARIABLES` then it will also get initialized with all the other variables in the TensorFlow graph, but it will not get optimized. This is a bit confusing."
   ]
  },
  {
   "cell_type": "code",
   "execution_count": 16,
   "metadata": {},
   "outputs": [],
   "source": [
    "collections = [tf.GraphKeys.GLOBAL_VARIABLES, ADVERSARY_VARIABLES]"
   ]
  },
  {
   "cell_type": "markdown",
   "metadata": {},
   "source": [
    "Now we can create the new variable for the adversarial noise. It will be initialized to zero. It will not be trainable, so it will not be optimized along with the other variables of the neural network. This allows us to create two separate optimization procedures."
   ]
  },
  {
   "cell_type": "code",
   "execution_count": 17,
   "metadata": {},
   "outputs": [],
   "source": [
    "x_noise = tf.Variable(tf.zeros([img_size, img_size, num_channels]),\n",
    "                      name='x_noise', trainable=False,\n",
    "                      collections=collections)"
   ]
  },
  {
   "cell_type": "markdown",
   "metadata": {},
   "source": [
    "The adversarial noise will be limited / clipped to the given \n",
    "&plusmn; noise-limit that we set above. Note that this is actually not executed at this point in the computational graph, but will instead be executed after the optimization-step, see further below."
   ]
  },
  {
   "cell_type": "code",
   "execution_count": 18,
   "metadata": {},
   "outputs": [],
   "source": [
    "x_noise_clip = tf.assign(x_noise, tf.clip_by_value(x_noise,\n",
    "                                                   -noise_limit,\n",
    "                                                   noise_limit))"
   ]
  },
  {
   "cell_type": "markdown",
   "metadata": {},
   "source": [
    "The noisy image is just the sum of the input image and the adversarial noise."
   ]
  },
  {
   "cell_type": "code",
   "execution_count": 19,
   "metadata": {},
   "outputs": [],
   "source": [
    "x_noisy_image = x_image + x_noise"
   ]
  },
  {
   "cell_type": "markdown",
   "metadata": {},
   "source": [
    "When adding the noise to the input image, it may overflow the boundaries for a valid image, so we clip / limit the noisy image to ensure its pixel-values are between 0 and 1."
   ]
  },
  {
   "cell_type": "code",
   "execution_count": 20,
   "metadata": {},
   "outputs": [],
   "source": [
    "x_noisy_image = tf.clip_by_value(x_noisy_image, 0.0, 1.0)"
   ]
  },
  {
   "cell_type": "markdown",
   "metadata": {},
   "source": [
    "### Convolutional Neural Network"
   ]
  },
  {
   "cell_type": "markdown",
   "metadata": {},
   "source": [
    "We will use the Layers API to construct the convolutional neural network, see Tutorial #03-B."
   ]
  },
  {
   "cell_type": "code",
   "execution_count": 21,
   "metadata": {},
   "outputs": [
    {
     "name": "stdout",
     "output_type": "stream",
     "text": [
      "WARNING:tensorflow:From <ipython-input-21-e4aeca564f20>:6: conv2d (from tensorflow.python.layers.convolutional) is deprecated and will be removed in a future version.\n",
      "Instructions for updating:\n",
      "Use `tf.keras.layers.Conv2D` instead.\n",
      "WARNING:tensorflow:From C:\\Users\\chris\\anaconda3\\envs\\hvass-tut-1\\lib\\site-packages\\tensorflow_core\\python\\layers\\convolutional.py:424: Layer.apply (from tensorflow.python.keras.engine.base_layer) is deprecated and will be removed in a future version.\n",
      "Instructions for updating:\n",
      "Please use `layer.__call__` method instead.\n",
      "WARNING:tensorflow:From <ipython-input-21-e4aeca564f20>:7: max_pooling2d (from tensorflow.python.layers.pooling) is deprecated and will be removed in a future version.\n",
      "Instructions for updating:\n",
      "Use keras.layers.MaxPooling2D instead.\n",
      "WARNING:tensorflow:\n",
      "The TensorFlow contrib module will not be included in TensorFlow 2.0.\n",
      "For more information, please see:\n",
      "  * https://github.com/tensorflow/community/blob/master/rfcs/20180907-contrib-sunset.md\n",
      "  * https://github.com/tensorflow/addons\n",
      "  * https://github.com/tensorflow/io (for I/O related ops)\n",
      "If you depend on functionality not listed there, please file an issue.\n",
      "\n",
      "WARNING:tensorflow:From C:\\Users\\chris\\anaconda3\\envs\\hvass-tut-1\\lib\\site-packages\\tensorflow_core\\contrib\\layers\\python\\layers\\layers.py:1634: flatten (from tensorflow.python.layers.core) is deprecated and will be removed in a future version.\n",
      "Instructions for updating:\n",
      "Use keras.layers.flatten instead.\n",
      "WARNING:tensorflow:From <ipython-input-21-e4aeca564f20>:20: dense (from tensorflow.python.layers.core) is deprecated and will be removed in a future version.\n",
      "Instructions for updating:\n",
      "Use keras.layers.Dense instead.\n"
     ]
    }
   ],
   "source": [
    "# Start the network with the noisy input image.\n",
    "net = x_noisy_image\n",
    "\n",
    "# 1st convolutional layer.\n",
    "net = tf.layers.conv2d(inputs=net, name='layer_conv1', padding='same',\n",
    "                       filters=16, kernel_size=5, activation=tf.nn.relu)\n",
    "net = tf.layers.max_pooling2d(inputs=net, pool_size=2, strides=2)\n",
    "\n",
    "# 2nd convolutional layer.\n",
    "net = tf.layers.conv2d(inputs=net, name='layer_conv2', padding='same',\n",
    "                       filters=36, kernel_size=5, activation=tf.nn.relu)\n",
    "net = tf.layers.max_pooling2d(inputs=net, pool_size=2, strides=2)\n",
    "\n",
    "# Flatten layer.This should eventually be replaced by:\n",
    "# net = tf.layers.flatten(net)\n",
    "net = tf.contrib.layers.flatten(net)\n",
    "\n",
    "# 1st fully-connected / dense layer.\n",
    "net = tf.layers.dense(inputs=net, name='layer_fc1',\n",
    "                      units=128, activation=tf.nn.relu)\n",
    "\n",
    "# 2nd fully-connected / dense layer.\n",
    "net = tf.layers.dense(inputs=net, name='layer_fc_out',\n",
    "                      units=num_classes, activation=None)\n",
    "\n",
    "# Unscaled output of the network.\n",
    "logits = net\n",
    "\n",
    "# Softmax output of the network.\n",
    "y_pred = tf.nn.softmax(logits=logits)\n",
    "\n",
    "# Loss measure to be optimized.\n",
    "cross_entropy = tf.nn.softmax_cross_entropy_with_logits_v2(labels=y_true,\n",
    "                                                           logits=logits)\n",
    "loss = tf.reduce_mean(cross_entropy)"
   ]
  },
  {
   "cell_type": "markdown",
   "metadata": {},
   "source": [
    "### Optimizer for Normal Training"
   ]
  },
  {
   "cell_type": "markdown",
   "metadata": {},
   "source": [
    "This is a list of the variables for the neural network that will be trained during the normal optimization procedure. Note that `'x_noise:0'` is not in the list, so the adversarial noise is not being optimized in the normal procedure."
   ]
  },
  {
   "cell_type": "code",
   "execution_count": 22,
   "metadata": {
    "scrolled": true
   },
   "outputs": [
    {
     "data": {
      "text/plain": [
       "['layer_conv1/kernel:0',\n",
       " 'layer_conv1/bias:0',\n",
       " 'layer_conv2/kernel:0',\n",
       " 'layer_conv2/bias:0',\n",
       " 'layer_fc1/kernel:0',\n",
       " 'layer_fc1/bias:0',\n",
       " 'layer_fc_out/kernel:0',\n",
       " 'layer_fc_out/bias:0']"
      ]
     },
     "execution_count": 22,
     "metadata": {},
     "output_type": "execute_result"
    }
   ],
   "source": [
    "[var.name for var in tf.trainable_variables()]"
   ]
  },
  {
   "cell_type": "markdown",
   "metadata": {},
   "source": [
    "Optimization of these variables in the neural network is done with the Adam-optimizer using the loss-measure that was returned from PrettyTensor when we constructed the neural network above.\n",
    "\n",
    "Note that optimization is not performed at this point. In fact, nothing is calculated at all, we just add the optimizer-object to the TensorFlow graph for later execution."
   ]
  },
  {
   "cell_type": "code",
   "execution_count": 23,
   "metadata": {},
   "outputs": [],
   "source": [
    "optimizer = tf.train.AdamOptimizer(learning_rate=1e-4).minimize(loss)"
   ]
  },
  {
   "cell_type": "markdown",
   "metadata": {},
   "source": [
    "### Optimizer for Adversarial Noise"
   ]
  },
  {
   "cell_type": "markdown",
   "metadata": {},
   "source": [
    "Get the list of variables that must be optimized in the second procedure for the adversarial noise."
   ]
  },
  {
   "cell_type": "code",
   "execution_count": 24,
   "metadata": {},
   "outputs": [],
   "source": [
    "adversary_variables = tf.get_collection(ADVERSARY_VARIABLES)"
   ]
  },
  {
   "cell_type": "markdown",
   "metadata": {},
   "source": [
    "Show the list of variable-names. There is only one, which is the adversarial noise variable that we created above."
   ]
  },
  {
   "cell_type": "code",
   "execution_count": 25,
   "metadata": {
    "scrolled": true
   },
   "outputs": [
    {
     "data": {
      "text/plain": [
       "['x_noise:0']"
      ]
     },
     "execution_count": 25,
     "metadata": {},
     "output_type": "execute_result"
    }
   ],
   "source": [
    "[var.name for var in adversary_variables]"
   ]
  },
  {
   "cell_type": "markdown",
   "metadata": {},
   "source": [
    "We will combine the loss-function for the normal optimization with a so-called L2-loss for the noise-variable. This should result in the minimum values for the adversarial noise along with the best classification accuracy.\n",
    "\n",
    "The L2-loss is scaled by a weight that is typically set close to zero."
   ]
  },
  {
   "cell_type": "code",
   "execution_count": 26,
   "metadata": {},
   "outputs": [],
   "source": [
    "l2_loss_noise = noise_l2_weight * tf.nn.l2_loss(x_noise)"
   ]
  },
  {
   "cell_type": "markdown",
   "metadata": {},
   "source": [
    "Combine the normal loss-function with the L2-loss for the adversarial noise."
   ]
  },
  {
   "cell_type": "code",
   "execution_count": 27,
   "metadata": {},
   "outputs": [],
   "source": [
    "loss_adversary = loss + l2_loss_noise"
   ]
  },
  {
   "cell_type": "markdown",
   "metadata": {},
   "source": [
    "We can now create the optimizer for the adversarial noise. Because this optimizer is not supposed to update all the variables of the neural network, we must give it a list of the variables that we want updated, which is the variable for the adversarial noise. Also note the learning-rate is much greater than for the normal optimizer above."
   ]
  },
  {
   "cell_type": "code",
   "execution_count": 28,
   "metadata": {},
   "outputs": [
    {
     "name": "stdout",
     "output_type": "stream",
     "text": [
      "WARNING:tensorflow:From C:\\Users\\chris\\anaconda3\\envs\\hvass-tut-1\\lib\\site-packages\\tensorflow_core\\python\\ops\\math_grad.py:1424: where (from tensorflow.python.ops.array_ops) is deprecated and will be removed in a future version.\n",
      "Instructions for updating:\n",
      "Use tf.where in 2.0, which has the same broadcast rule as np.where\n"
     ]
    }
   ],
   "source": [
    "optimizer_adversary = tf.train.AdamOptimizer(learning_rate=1e-2).minimize(loss_adversary, var_list=adversary_variables)"
   ]
  },
  {
   "cell_type": "markdown",
   "metadata": {},
   "source": [
    "We have now created two optimizers for the neural network, one for the variables of the neural network and another for the single variable with the adversarial noise."
   ]
  },
  {
   "cell_type": "markdown",
   "metadata": {},
   "source": [
    "### Performance Measures\n",
    "\n",
    "We need a few more operations in the TensorFlow graph which will make it easier for us to display the progress to the user during optimization.\n",
    "\n",
    "First we calculate the predicted class number from the output of the Neural Network `y_pred`, which is a vector with 10 elements. The class number is the index of the largest element."
   ]
  },
  {
   "cell_type": "code",
   "execution_count": 29,
   "metadata": {},
   "outputs": [],
   "source": [
    "y_pred_cls = tf.argmax(y_pred, axis=1)"
   ]
  },
  {
   "cell_type": "markdown",
   "metadata": {},
   "source": [
    "Then we create a vector of booleans telling us whether the predicted class equals the true class of each image."
   ]
  },
  {
   "cell_type": "code",
   "execution_count": 30,
   "metadata": {},
   "outputs": [],
   "source": [
    "correct_prediction = tf.equal(y_pred_cls, y_true_cls)"
   ]
  },
  {
   "cell_type": "markdown",
   "metadata": {},
   "source": [
    "The classification accuracy is calculated by first type-casting the vector of booleans to floats, so that False becomes 0 and True becomes 1, and then taking the average of these numbers."
   ]
  },
  {
   "cell_type": "code",
   "execution_count": 31,
   "metadata": {},
   "outputs": [],
   "source": [
    "accuracy = tf.reduce_mean(tf.cast(correct_prediction, tf.float32))"
   ]
  },
  {
   "cell_type": "markdown",
   "metadata": {},
   "source": [
    "## TensorFlow Run"
   ]
  },
  {
   "cell_type": "markdown",
   "metadata": {},
   "source": [
    "### Create TensorFlow session\n",
    "\n",
    "Once the TensorFlow graph has been created, we have to create a TensorFlow session which is used to execute the graph."
   ]
  },
  {
   "cell_type": "code",
   "execution_count": 32,
   "metadata": {},
   "outputs": [],
   "source": [
    "session = tf.Session()"
   ]
  },
  {
   "cell_type": "markdown",
   "metadata": {},
   "source": [
    "### Initialize variables\n",
    "\n",
    "The variables for `weights` and `biases` must be initialized before we start optimizing them."
   ]
  },
  {
   "cell_type": "code",
   "execution_count": 33,
   "metadata": {},
   "outputs": [],
   "source": [
    "session.run(tf.global_variables_initializer())"
   ]
  },
  {
   "cell_type": "markdown",
   "metadata": {},
   "source": [
    "This is a helper-function for initializing / resetting the adversarial noise to zero."
   ]
  },
  {
   "cell_type": "code",
   "execution_count": 34,
   "metadata": {},
   "outputs": [],
   "source": [
    "def init_noise():\n",
    "    session.run(tf.variables_initializer([x_noise]))"
   ]
  },
  {
   "cell_type": "markdown",
   "metadata": {},
   "source": [
    "Call the function to initialize the adversarial noise."
   ]
  },
  {
   "cell_type": "code",
   "execution_count": 35,
   "metadata": {},
   "outputs": [],
   "source": [
    "init_noise()"
   ]
  },
  {
   "cell_type": "markdown",
   "metadata": {},
   "source": [
    "### Helper-function to perform optimization iterations"
   ]
  },
  {
   "cell_type": "markdown",
   "metadata": {},
   "source": [
    "There are 55,000 images in the training-set. It takes a long time to calculate the gradient of the model using all these images. We therefore only use a small batch of images in each iteration of the optimizer.\n",
    "\n",
    "If your computer crashes or becomes very slow because you run out of RAM, then you may try and lower this number, but you may then need to perform more optimization iterations."
   ]
  },
  {
   "cell_type": "code",
   "execution_count": 36,
   "metadata": {},
   "outputs": [],
   "source": [
    "train_batch_size = 64"
   ]
  },
  {
   "cell_type": "markdown",
   "metadata": {},
   "source": [
    "Below is the function for performing a number of optimization iterations so as to gradually improve the variables of the neural network. In each iteration, a new batch of data is selected from the training-set and then TensorFlow executes the optimizer using those training samples. The progress is printed every 100 iterations.\n",
    "\n",
    "This function is similar to the previous tutorials, except that it now takes an argument for the adversarial target-class. When this target-class is set to an integer, it will be used instead of the true class-number for the training-data. The adversarial optimizer is also used instead of the normal optimizer, and after each step of the adversarial optimizer, the noise will be limited / clipped to the allowed range. This optimizes the adversarial noise and ignores the other variables of the neural network."
   ]
  },
  {
   "cell_type": "code",
   "execution_count": 37,
   "metadata": {},
   "outputs": [],
   "source": [
    "def optimize(num_iterations, adversary_target_cls=None):\n",
    "    # Start-time used for printing time-usage below.\n",
    "    start_time = time.time()\n",
    "\n",
    "    for i in range(num_iterations):\n",
    "\n",
    "        # Get a batch of training examples.\n",
    "        # x_batch now holds a batch of images and\n",
    "        # y_true_batch are the true labels for those images.\n",
    "        x_batch, y_true_batch, _ = data.random_batch(batch_size=train_batch_size)\n",
    "\n",
    "        # If we are searching for the adversarial noise, then\n",
    "        # use the adversarial target-class instead.\n",
    "        if adversary_target_cls is not None:\n",
    "            # The class-labels are One-Hot encoded.\n",
    "            \n",
    "            # Set all the class-labels to zero.\n",
    "            y_true_batch = np.zeros_like(y_true_batch)\n",
    "\n",
    "            # Set the element for the adversarial target-class to 1.\n",
    "            y_true_batch[:, adversary_target_cls] = 1.0\n",
    "            \n",
    "        # Put the batch into a dict with the proper names\n",
    "        # for placeholder variables in the TensorFlow graph.\n",
    "        feed_dict_train = {x: x_batch,\n",
    "                           y_true: y_true_batch}\n",
    "\n",
    "        # If doing normal optimization of the neural network.\n",
    "        if adversary_target_cls is None:\n",
    "            # Run the optimizer using this batch of training data.\n",
    "            # TensorFlow assigns the variables in feed_dict_train\n",
    "            # to the placeholder variables and then runs the optimizer.\n",
    "            session.run(optimizer, feed_dict=feed_dict_train)\n",
    "        else:\n",
    "            # Run the adversarial optimizer instead.\n",
    "            # Note that we have 'faked' the class above to be\n",
    "            # the adversarial target-class instead of the true class.\n",
    "            session.run(optimizer_adversary, feed_dict=feed_dict_train)\n",
    "            \n",
    "            # Clip / limit the adversarial noise. This executes\n",
    "            # another TensorFlow operation. It cannot be executed\n",
    "            # in the same session.run() as the optimizer, because\n",
    "            # it may run in parallel so the execution order is not\n",
    "            # guaranteed. We need the clip to run after the optimizer.\n",
    "            session.run(x_noise_clip)\n",
    "\n",
    "        # Print status every 100 iterations.\n",
    "        if (i % 100 == 0) or (i == num_iterations - 1):\n",
    "            # Calculate the accuracy on the training-set.\n",
    "            acc = session.run(accuracy, feed_dict=feed_dict_train)\n",
    "\n",
    "            # Message for printing.\n",
    "            msg = \"Optimization Iteration: {0:>6}, Training Accuracy: {1:>6.1%}\"\n",
    "\n",
    "            # Print it.\n",
    "            print(msg.format(i, acc))\n",
    "\n",
    "    # Ending time.\n",
    "    end_time = time.time()\n",
    "\n",
    "    # Difference between start and end-times.\n",
    "    time_dif = end_time - start_time\n",
    "\n",
    "    # Print the time-usage.\n",
    "    print(\"Time usage: \" + str(timedelta(seconds=int(round(time_dif)))))"
   ]
  },
  {
   "cell_type": "markdown",
   "metadata": {},
   "source": [
    "### Helper-functions for getting and plotting the noise"
   ]
  },
  {
   "cell_type": "markdown",
   "metadata": {},
   "source": [
    "This function gets the adversarial noise from inside the TensorFlow graph."
   ]
  },
  {
   "cell_type": "code",
   "execution_count": 38,
   "metadata": {},
   "outputs": [],
   "source": [
    "def get_noise():\n",
    "    # Run the TensorFlow session to retrieve the contents of\n",
    "    # the x_noise variable inside the graph.\n",
    "    noise = session.run(x_noise)\n",
    "\n",
    "    return np.squeeze(noise)"
   ]
  },
  {
   "cell_type": "markdown",
   "metadata": {},
   "source": [
    "This function plots the adversarial noise and prints some statistics."
   ]
  },
  {
   "cell_type": "code",
   "execution_count": 39,
   "metadata": {},
   "outputs": [],
   "source": [
    "def plot_noise():\n",
    "    # Get the adversarial noise from inside the TensorFlow graph.\n",
    "    noise = get_noise()\n",
    "    \n",
    "    # Print statistics.\n",
    "    print(\"Noise:\")\n",
    "    print(\"- Min:\", noise.min())\n",
    "    print(\"- Max:\", noise.max())\n",
    "    print(\"- Std:\", noise.std())\n",
    "\n",
    "    # Plot the noise.\n",
    "    plt.imshow(noise, interpolation='nearest', cmap='seismic',\n",
    "               vmin=-1.0, vmax=1.0)"
   ]
  },
  {
   "cell_type": "markdown",
   "metadata": {},
   "source": [
    "### Helper-function to plot example errors"
   ]
  },
  {
   "cell_type": "markdown",
   "metadata": {},
   "source": [
    "Function for plotting examples of images from the test-set that have been mis-classified."
   ]
  },
  {
   "cell_type": "code",
   "execution_count": 40,
   "metadata": {},
   "outputs": [],
   "source": [
    "def plot_example_errors(cls_pred, correct):\n",
    "    # This function is called from print_test_accuracy() below.\n",
    "\n",
    "    # cls_pred is an array of the predicted class-number for\n",
    "    # all images in the test-set.\n",
    "\n",
    "    # correct is a boolean array whether the predicted class\n",
    "    # is equal to the true class for each image in the test-set.\n",
    "\n",
    "    # Negate the boolean array.\n",
    "    incorrect = (correct == False)\n",
    "    \n",
    "    # Get the images from the test-set that have been\n",
    "    # incorrectly classified.\n",
    "    images = data.x_test[incorrect]\n",
    "    \n",
    "    # Get the predicted classes for those images.\n",
    "    cls_pred = cls_pred[incorrect]\n",
    "\n",
    "    # Get the true classes for those images.\n",
    "    cls_true = data.y_test_cls[incorrect]\n",
    "\n",
    "    # Get the adversarial noise from inside the TensorFlow graph.\n",
    "    noise = get_noise()\n",
    "    \n",
    "    # Plot the first 9 images.\n",
    "    plot_images(images=images[0:9],\n",
    "                cls_true=cls_true[0:9],\n",
    "                cls_pred=cls_pred[0:9],\n",
    "                noise=noise)"
   ]
  },
  {
   "cell_type": "markdown",
   "metadata": {},
   "source": [
    "### Helper-function to plot confusion matrix"
   ]
  },
  {
   "cell_type": "code",
   "execution_count": 41,
   "metadata": {},
   "outputs": [],
   "source": [
    "def plot_confusion_matrix(cls_pred):\n",
    "    # This is called from print_test_accuracy() below.\n",
    "\n",
    "    # cls_pred is an array of the predicted class-number for\n",
    "    # all images in the test-set.\n",
    "\n",
    "    # Get the true classifications for the test-set.\n",
    "    cls_true = data.y_test_cls\n",
    "    \n",
    "    # Get the confusion matrix using sklearn.\n",
    "    cm = confusion_matrix(y_true=cls_true,\n",
    "                          y_pred=cls_pred)\n",
    "\n",
    "    # Print the confusion matrix as text.\n",
    "    print(cm)"
   ]
  },
  {
   "cell_type": "markdown",
   "metadata": {},
   "source": [
    "### Helper-function for showing the performance"
   ]
  },
  {
   "cell_type": "markdown",
   "metadata": {},
   "source": [
    "Function for printing the classification accuracy on the test-set.\n",
    "\n",
    "It takes a while to compute the classification for all the images in the test-set, that's why the results are re-used by calling the above functions directly from this function, so the classifications don't have to be recalculated by each function.\n",
    "\n",
    "Note that this function can use a lot of computer memory, which is why the test-set is split into smaller batches. If you have little RAM in your computer and it crashes, then you can try and lower the batch-size."
   ]
  },
  {
   "cell_type": "code",
   "execution_count": 42,
   "metadata": {},
   "outputs": [],
   "source": [
    "# Split the test-set into smaller batches of this size.\n",
    "test_batch_size = 256\n",
    "\n",
    "def print_test_accuracy(show_example_errors=False,\n",
    "                        show_confusion_matrix=False):\n",
    "\n",
    "    # Number of images in the test-set.\n",
    "    num_test = data.num_test\n",
    "\n",
    "    # Allocate an array for the predicted classes which\n",
    "    # will be calculated in batches and filled into this array.\n",
    "    cls_pred = np.zeros(shape=num_test, dtype=np.int)\n",
    "\n",
    "    # Now calculate the predicted classes for the batches.\n",
    "    # We will just iterate through all the batches.\n",
    "    # There might be a more clever and Pythonic way of doing this.\n",
    "\n",
    "    # The starting index for the next batch is denoted i.\n",
    "    i = 0\n",
    "\n",
    "    while i < num_test:\n",
    "        # The ending index for the next batch is denoted j.\n",
    "        j = min(i + test_batch_size, num_test)\n",
    "\n",
    "        # Get the images from the test-set between index i and j.\n",
    "        images = data.x_test[i:j, :]\n",
    "\n",
    "        # Get the associated labels.\n",
    "        labels = data.y_test[i:j, :]\n",
    "\n",
    "        # Create a feed-dict with these images and labels.\n",
    "        feed_dict = {x: images,\n",
    "                     y_true: labels}\n",
    "\n",
    "        # Calculate the predicted class using TensorFlow.\n",
    "        cls_pred[i:j] = session.run(y_pred_cls, feed_dict=feed_dict)\n",
    "\n",
    "        # Set the start-index for the next batch to the\n",
    "        # end-index of the current batch.\n",
    "        i = j\n",
    "\n",
    "    # Convenience variable for the true class-numbers of the test-set.\n",
    "    cls_true = data.y_test_cls\n",
    "\n",
    "    # Create a boolean array whether each image is correctly classified.\n",
    "    correct = (cls_true == cls_pred)\n",
    "\n",
    "    # Calculate the number of correctly classified images.\n",
    "    # When summing a boolean array, False means 0 and True means 1.\n",
    "    correct_sum = correct.sum()\n",
    "\n",
    "    # Classification accuracy is the number of correctly classified\n",
    "    # images divided by the total number of images in the test-set.\n",
    "    acc = float(correct_sum) / num_test\n",
    "\n",
    "    # Print the accuracy.\n",
    "    msg = \"Accuracy on Test-Set: {0:.1%} ({1} / {2})\"\n",
    "    print(msg.format(acc, correct_sum, num_test))\n",
    "\n",
    "    # Plot some examples of mis-classifications, if desired.\n",
    "    if show_example_errors:\n",
    "        print(\"Example errors:\")\n",
    "        plot_example_errors(cls_pred=cls_pred, correct=correct)\n",
    "\n",
    "    # Plot the confusion matrix, if desired.\n",
    "    if show_confusion_matrix:\n",
    "        print(\"Confusion Matrix:\")\n",
    "        plot_confusion_matrix(cls_pred=cls_pred)"
   ]
  },
  {
   "cell_type": "markdown",
   "metadata": {},
   "source": [
    "## Normal optimization of neural network\n",
    "\n",
    "First we perform 1000 optimization iterations with the normal optimizer. This finds the variables that makes the neural network perform well on the training-set.\n",
    "\n",
    "The adversarial noise is not effective yet because it has only been initialized to zero above and it is not being updated during this optimization."
   ]
  },
  {
   "cell_type": "code",
   "execution_count": 43,
   "metadata": {
    "scrolled": false
   },
   "outputs": [
    {
     "name": "stdout",
     "output_type": "stream",
     "text": [
      "Optimization Iteration:      0, Training Accuracy:   9.4%\n",
      "Optimization Iteration:    100, Training Accuracy:  82.8%\n",
      "Optimization Iteration:    200, Training Accuracy:  78.1%\n",
      "Optimization Iteration:    300, Training Accuracy:  92.2%\n",
      "Optimization Iteration:    400, Training Accuracy:  92.2%\n",
      "Optimization Iteration:    500, Training Accuracy:  93.8%\n",
      "Optimization Iteration:    600, Training Accuracy:  96.9%\n",
      "Optimization Iteration:    700, Training Accuracy:  96.9%\n",
      "Optimization Iteration:    800, Training Accuracy:  96.9%\n",
      "Optimization Iteration:    900, Training Accuracy:  93.8%\n",
      "Optimization Iteration:    999, Training Accuracy:  92.2%\n",
      "Time usage: 0:00:39\n"
     ]
    }
   ],
   "source": [
    "optimize(num_iterations=1000)"
   ]
  },
  {
   "cell_type": "markdown",
   "metadata": {},
   "source": [
    "The classification accuracy is now about 96-97% on the test-set. (This will vary each time you run this Python Notebook)."
   ]
  },
  {
   "cell_type": "code",
   "execution_count": 44,
   "metadata": {
    "scrolled": false
   },
   "outputs": [
    {
     "name": "stdout",
     "output_type": "stream",
     "text": [
      "Accuracy on Test-Set: 95.2% (9520 / 10000)\n",
      "Example errors:\n"
     ]
    },
    {
     "data": {
      "image/png": "[encoded data removed]",
      "text/plain": [
       "<Figure size 432x288 with 9 Axes>"
      ]
     },
     "metadata": {},
     "output_type": "display_data"
    }
   ],
   "source": [
    "print_test_accuracy(show_example_errors=True)"
   ]
  },
  {
   "cell_type": "markdown",
   "metadata": {},
   "source": [
    "## Find the adversarial noise"
   ]
  },
  {
   "cell_type": "markdown",
   "metadata": {},
   "source": [
    "Before we start optimizing the adversarial noise, we first initialize it to zero. This was already done above but it is repeated here in case you want to re-run this code with another target-class."
   ]
  },
  {
   "cell_type": "code",
   "execution_count": 45,
   "metadata": {},
   "outputs": [],
   "source": [
    "init_noise()"
   ]
  },
  {
   "cell_type": "markdown",
   "metadata": {},
   "source": [
    "Now perform optimization of the adversarial noise. This uses the adversarial optimizer instead of the normal optimizer, which means that it only optimizes the variable for the adversarial noise, while ignoring all the other variables of the neural network."
   ]
  },
  {
   "cell_type": "code",
   "execution_count": 46,
   "metadata": {
    "scrolled": false
   },
   "outputs": [
    {
     "name": "stdout",
     "output_type": "stream",
     "text": [
      "Optimization Iteration:      0, Training Accuracy:  10.9%\n",
      "Optimization Iteration:    100, Training Accuracy:  96.9%\n",
      "Optimization Iteration:    200, Training Accuracy:  98.4%\n",
      "Optimization Iteration:    300, Training Accuracy: 100.0%\n",
      "Optimization Iteration:    400, Training Accuracy:  98.4%\n",
      "Optimization Iteration:    500, Training Accuracy:  96.9%\n",
      "Optimization Iteration:    600, Training Accuracy: 100.0%\n",
      "Optimization Iteration:    700, Training Accuracy:  96.9%\n",
      "Optimization Iteration:    800, Training Accuracy: 100.0%\n",
      "Optimization Iteration:    900, Training Accuracy: 100.0%\n",
      "Optimization Iteration:    999, Training Accuracy:  96.9%\n",
      "Time usage: 0:00:24\n"
     ]
    }
   ],
   "source": [
    "optimize(num_iterations=1000, adversary_target_cls=3)"
   ]
  },
  {
   "cell_type": "markdown",
   "metadata": {},
   "source": [
    "The adversarial noise has now been optimized and it can be shown in a plot. The red pixels show positive noise-values and the blue pixels show negative noise-values. This noise-pattern is added to every input image. The positive (red) noise-values makes the pixels darker and the negative (blue) noise-values makes the pixels brighter. Examples of this are shown below."
   ]
  },
  {
   "cell_type": "code",
   "execution_count": 47,
   "metadata": {
    "scrolled": true
   },
   "outputs": [
    {
     "name": "stdout",
     "output_type": "stream",
     "text": [
      "Noise:\n",
      "- Min: -0.35\n",
      "- Max: 0.35\n",
      "- Std: 0.17931256\n"
     ]
    },
    {
     "data": {
      "image/png": "[encoded data removed]",
      "text/plain": [
       "<Figure size 432x288 with 1 Axes>"
      ]
     },
     "metadata": {
      "needs_background": "light"
     },
     "output_type": "display_data"
    }
   ],
   "source": [
    "plot_noise()"
   ]
  },
  {
   "cell_type": "markdown",
   "metadata": {},
   "source": [
    "When this noise is added to all the images in the test-set, the result is typically a classification accuracy of 10-15% depending on the target-class that was chosen. We can also see from the confusion matrix that most images in the test-set are now classified as the desired target-class - although some of the target-classes require more adversarial noise than others.\n",
    "\n",
    "So we have found adversarial noise that makes the neural network mis-classify almost all images in the test-set as our desired target-class.\n",
    "\n",
    "We can also show some examples of mis-classified images with the adversarial noise. The noise is clearly visible but the digits are still easily identified by the human eye."
   ]
  },
  {
   "cell_type": "code",
   "execution_count": 48,
   "metadata": {
    "scrolled": true
   },
   "outputs": [
    {
     "name": "stdout",
     "output_type": "stream",
     "text": [
      "Accuracy on Test-Set: 12.4% (1239 / 10000)\n",
      "Example errors:\n"
     ]
    },
    {
     "data": {
      "image/png": "[encoded data removed]",
      "text/plain": [
       "<Figure size 432x288 with 9 Axes>"
      ]
     },
     "metadata": {},
     "output_type": "display_data"
    },
    {
     "name": "stdout",
     "output_type": "stream",
     "text": [
      "Confusion Matrix:\n",
      "[[  43    0    1  935    0    1    0    0    0    0]\n",
      " [   0    0    0 1135    0    0    0    0    0    0]\n",
      " [   0    0   61  971    0    0    0    0    0    0]\n",
      " [   0    0    0 1010    0    0    0    0    0    0]\n",
      " [   0    0    0  959   23    0    0    0    0    0]\n",
      " [   0    0    0  857    0   35    0    0    0    0]\n",
      " [   0    0    8  949    0    1    0    0    0    0]\n",
      " [   0    0    0  966    0    0    0   62    0    0]\n",
      " [   0    0    0  969    0    0    0    0    5    0]\n",
      " [   0    0    1 1008    0    0    0    0    0    0]]\n"
     ]
    }
   ],
   "source": [
    "print_test_accuracy(show_example_errors=True,\n",
    "                    show_confusion_matrix=True)"
   ]
  },
  {
   "cell_type": "markdown",
   "metadata": {},
   "source": [
    "## Adversarial noise for all target-classes"
   ]
  },
  {
   "cell_type": "markdown",
   "metadata": {},
   "source": [
    "This is a helper-function for finding the adversarial noise for all target-classes. The function loops over all the class-numbers from 0 to 9 and runs the optimization above. The results are then stored in an array."
   ]
  },
  {
   "cell_type": "code",
   "execution_count": 49,
   "metadata": {},
   "outputs": [],
   "source": [
    "def find_all_noise(num_iterations=1000):\n",
    "    # Adversarial noise for all target-classes.\n",
    "    all_noise = []\n",
    "\n",
    "    # For each target-class.\n",
    "    for i in range(num_classes):\n",
    "        print(\"Finding adversarial noise for target-class:\", i)\n",
    "\n",
    "        # Reset the adversarial noise to zero.\n",
    "        init_noise()\n",
    "\n",
    "        # Optimize the adversarial noise.\n",
    "        optimize(num_iterations=num_iterations,\n",
    "                 adversary_target_cls=i)\n",
    "\n",
    "        # Get the adversarial noise from inside the TensorFlow graph.\n",
    "        noise = get_noise()\n",
    "\n",
    "        # Append the noise to the array.\n",
    "        all_noise.append(noise)\n",
    "\n",
    "        # Print newline.\n",
    "        print()\n",
    "    \n",
    "    return all_noise"
   ]
  },
  {
   "cell_type": "code",
   "execution_count": 50,
   "metadata": {},
   "outputs": [
    {
     "name": "stdout",
     "output_type": "stream",
     "text": [
      "Finding adversarial noise for target-class: 0\n",
      "Optimization Iteration:      0, Training Accuracy:  20.3%\n",
      "Optimization Iteration:    100, Training Accuracy:  81.2%\n",
      "Optimization Iteration:    200, Training Accuracy:  85.9%\n",
      "Optimization Iteration:    299, Training Accuracy:  82.8%\n",
      "Time usage: 0:00:07\n",
      "\n",
      "Finding adversarial noise for target-class: 1\n",
      "Optimization Iteration:      0, Training Accuracy:   9.4%\n",
      "Optimization Iteration:    100, Training Accuracy:  45.3%\n",
      "Optimization Iteration:    200, Training Accuracy:  48.4%\n",
      "Optimization Iteration:    299, Training Accuracy:  48.4%\n",
      "Time usage: 0:00:07\n",
      "\n",
      "Finding adversarial noise for target-class: 2\n",
      "Optimization Iteration:      0, Training Accuracy:   6.2%\n",
      "Optimization Iteration:    100, Training Accuracy:  96.9%\n",
      "Optimization Iteration:    200, Training Accuracy:  89.1%\n",
      "Optimization Iteration:    299, Training Accuracy:  93.8%\n",
      "Time usage: 0:00:08\n",
      "\n",
      "Finding adversarial noise for target-class: 3\n",
      "Optimization Iteration:      0, Training Accuracy:  10.9%\n",
      "Optimization Iteration:    100, Training Accuracy:  96.9%\n",
      "Optimization Iteration:    200, Training Accuracy:  95.3%\n",
      "Optimization Iteration:    299, Training Accuracy:  96.9%\n",
      "Time usage: 0:00:07\n",
      "\n",
      "Finding adversarial noise for target-class: 4\n",
      "Optimization Iteration:      0, Training Accuracy:   7.8%\n",
      "Optimization Iteration:    100, Training Accuracy:  90.6%\n",
      "Optimization Iteration:    200, Training Accuracy:  85.9%\n",
      "Optimization Iteration:    299, Training Accuracy:  90.6%\n",
      "Time usage: 0:00:07\n",
      "\n",
      "Finding adversarial noise for target-class: 5\n",
      "Optimization Iteration:      0, Training Accuracy:  15.6%\n",
      "Optimization Iteration:    100, Training Accuracy:  96.9%\n",
      "Optimization Iteration:    200, Training Accuracy:  96.9%\n",
      "Optimization Iteration:    299, Training Accuracy: 100.0%\n",
      "Time usage: 0:00:07\n",
      "\n",
      "Finding adversarial noise for target-class: 6\n",
      "Optimization Iteration:      0, Training Accuracy:  20.3%\n",
      "Optimization Iteration:    100, Training Accuracy:  89.1%\n",
      "Optimization Iteration:    200, Training Accuracy:  95.3%\n",
      "Optimization Iteration:    299, Training Accuracy:  93.8%\n",
      "Time usage: 0:00:08\n",
      "\n",
      "Finding adversarial noise for target-class: 7\n",
      "Optimization Iteration:      0, Training Accuracy:   4.7%\n",
      "Optimization Iteration:    100, Training Accuracy:  89.1%\n",
      "Optimization Iteration:    200, Training Accuracy:  87.5%\n",
      "Optimization Iteration:    299, Training Accuracy:  93.8%\n",
      "Time usage: 0:00:07\n",
      "\n",
      "Finding adversarial noise for target-class: 8\n",
      "Optimization Iteration:      0, Training Accuracy:  15.6%\n",
      "Optimization Iteration:    100, Training Accuracy:  96.9%\n",
      "Optimization Iteration:    200, Training Accuracy:  96.9%\n",
      "Optimization Iteration:    299, Training Accuracy:  93.8%\n",
      "Time usage: 0:00:07\n",
      "\n",
      "Finding adversarial noise for target-class: 9\n",
      "Optimization Iteration:      0, Training Accuracy:  12.5%\n",
      "Optimization Iteration:    100, Training Accuracy:  90.6%\n",
      "Optimization Iteration:    200, Training Accuracy:  85.9%\n",
      "Optimization Iteration:    299, Training Accuracy:  85.9%\n",
      "Time usage: 0:00:07\n",
      "\n"
     ]
    }
   ],
   "source": [
    "all_noise = find_all_noise(num_iterations=300)"
   ]
  },
  {
   "cell_type": "markdown",
   "metadata": {},
   "source": [
    "### Plot the adversarial noise for all target-classes"
   ]
  },
  {
   "cell_type": "markdown",
   "metadata": {},
   "source": [
    "This is a helper-function for plotting a grid with the adversarial noise for all target-classes 0 to 9."
   ]
  },
  {
   "cell_type": "code",
   "execution_count": 51,
   "metadata": {},
   "outputs": [],
   "source": [
    "def plot_all_noise(all_noise):    \n",
    "    # Create figure with 10 sub-plots.\n",
    "    fig, axes = plt.subplots(2, 5)\n",
    "    fig.subplots_adjust(hspace=0.2, wspace=0.1)\n",
    "\n",
    "    # For each sub-plot.\n",
    "    for i, ax in enumerate(axes.flat):\n",
    "        # Get the adversarial noise for the i'th target-class.\n",
    "        noise = all_noise[i]\n",
    "        \n",
    "        # Plot the noise.\n",
    "        ax.imshow(noise,\n",
    "                  cmap='seismic', interpolation='nearest',\n",
    "                  vmin=-1.0, vmax=1.0)\n",
    "\n",
    "        # Show the classes as the label on the x-axis.\n",
    "        ax.set_xlabel(i)\n",
    "\n",
    "        # Remove ticks from the plot.\n",
    "        ax.set_xticks([])\n",
    "        ax.set_yticks([])\n",
    "    \n",
    "    # Ensure the plot is shown correctly with multiple plots\n",
    "    # in a single Notebook cell.\n",
    "    plt.show()"
   ]
  },
  {
   "cell_type": "code",
   "execution_count": 52,
   "metadata": {
    "scrolled": true
   },
   "outputs": [
    {
     "data": {
      "image/png": "[encoded data removed]",
      "text/plain": [
       "<Figure size 432x288 with 10 Axes>"
      ]
     },
     "metadata": {},
     "output_type": "display_data"
    }
   ],
   "source": [
    "plot_all_noise(all_noise)"
   ]
  },
  {
   "cell_type": "markdown",
   "metadata": {},
   "source": [
    "Red pixels show positive noise values, and blue pixels show negative noise values.\n",
    "\n",
    "In some of these noise-images you can see traces of the numbers. For example, the noise for target-class 0 shows a red circle surrounded by blue. This means that a little noise will be added to the input image in the shape of a circle, and it will dampen the other pixels. This is sufficient for most input images in the MNIST data-set to be mis-classified as a 0. Another example is the noise for 3 which also shows traces of the number 3 with red pixels. But the noise for the other classes is less obvious."
   ]
  },
  {
   "cell_type": "markdown",
   "metadata": {},
   "source": [
    "## Immunity to adversarial noise"
   ]
  },
  {
   "cell_type": "markdown",
   "metadata": {},
   "source": [
    "We will now try and make the neural network immune to adversarial noise. We do this by re-training the neural network to ignore the adversarial noise. This process can be repeated a number of times."
   ]
  },
  {
   "cell_type": "markdown",
   "metadata": {},
   "source": [
    "### Helper-function to make a neural network immune to noise\n",
    "\n",
    "This is the helper-function for making the neural network immune to adversarial noise. First it runs the optimization to find the adversarial noise. Then it runs the normal optimization to make the neural network immune to that noise."
   ]
  },
  {
   "cell_type": "code",
   "execution_count": 53,
   "metadata": {},
   "outputs": [],
   "source": [
    "def make_immune(target_cls, num_iterations_adversary=500,\n",
    "                num_iterations_immune=200):\n",
    "\n",
    "    print(\"Target-class:\", target_cls)\n",
    "    print(\"Finding adversarial noise ...\")\n",
    "\n",
    "    # Find the adversarial noise.\n",
    "    optimize(num_iterations=num_iterations_adversary,\n",
    "             adversary_target_cls=target_cls)\n",
    "\n",
    "    # Newline.\n",
    "    print()\n",
    "    \n",
    "    # Print classification accuracy.\n",
    "    print_test_accuracy(show_example_errors=False,\n",
    "                        show_confusion_matrix=False)\n",
    "\n",
    "    # Newline.\n",
    "    print()\n",
    "\n",
    "    print(\"Making the neural network immune to the noise ...\")\n",
    "\n",
    "    # Try and make the neural network immune to this noise.\n",
    "    # Note that the adversarial noise has not been reset to zero\n",
    "    # so the x_noise variable still holds the noise.\n",
    "    # So we are training the neural network to ignore the noise.\n",
    "    optimize(num_iterations=num_iterations_immune)\n",
    "\n",
    "    # Newline.\n",
    "    print()\n",
    "    \n",
    "    # Print classification accuracy.\n",
    "    print_test_accuracy(show_example_errors=False,\n",
    "                        show_confusion_matrix=False)"
   ]
  },
  {
   "cell_type": "markdown",
   "metadata": {},
   "source": [
    "### Make immune to noise for target-class 3\n",
    "\n",
    "First try and make the neural network immune to the adverserial noise for targer-class 3.\n",
    "\n",
    "First we find the adversarial noise that causes the neural network to mis-classify most of the images in the test-set. Then we run the normal optimization which fine-tunes the variables of the neural network to ignore this noise and this brings the classification accuracy for the noisy images up to 95-97% again."
   ]
  },
  {
   "cell_type": "code",
   "execution_count": 54,
   "metadata": {},
   "outputs": [
    {
     "name": "stdout",
     "output_type": "stream",
     "text": [
      "Target-class: 3\n",
      "Finding adversarial noise ...\n",
      "Optimization Iteration:      0, Training Accuracy:   1.6%\n",
      "Optimization Iteration:    100, Training Accuracy:  96.9%\n",
      "Optimization Iteration:    200, Training Accuracy: 100.0%\n",
      "Optimization Iteration:    300, Training Accuracy:  98.4%\n",
      "Optimization Iteration:    400, Training Accuracy:  98.4%\n",
      "Optimization Iteration:    499, Training Accuracy: 100.0%\n",
      "Time usage: 0:00:13\n",
      "\n",
      "Accuracy on Test-Set: 12.4% (1239 / 10000)\n",
      "\n",
      "Making the neural network immune to the noise ...\n",
      "Optimization Iteration:      0, Training Accuracy:  29.7%\n",
      "Optimization Iteration:    100, Training Accuracy:  90.6%\n",
      "Optimization Iteration:    199, Training Accuracy:  95.3%\n",
      "Time usage: 0:00:09\n",
      "\n",
      "Accuracy on Test-Set: 93.6% (9364 / 10000)\n"
     ]
    }
   ],
   "source": [
    "make_immune(target_cls=3)"
   ]
  },
  {
   "cell_type": "markdown",
   "metadata": {},
   "source": [
    "Now try and run it again. It is now more difficult to find adversarial noise for the target-class 3. The neural network seems to have become somewhat immune to adversarial noise."
   ]
  },
  {
   "cell_type": "code",
   "execution_count": 55,
   "metadata": {},
   "outputs": [
    {
     "name": "stdout",
     "output_type": "stream",
     "text": [
      "Target-class: 3\n",
      "Finding adversarial noise ...\n",
      "Optimization Iteration:      0, Training Accuracy:  14.1%\n",
      "Optimization Iteration:    100, Training Accuracy:  23.4%\n",
      "Optimization Iteration:    200, Training Accuracy:  25.0%\n",
      "Optimization Iteration:    300, Training Accuracy:  29.7%\n",
      "Optimization Iteration:    400, Training Accuracy:  23.4%\n",
      "Optimization Iteration:    499, Training Accuracy:  23.4%\n",
      "Time usage: 0:00:12\n",
      "\n",
      "Accuracy on Test-Set: 78.0% (7799 / 10000)\n",
      "\n",
      "Making the neural network immune to the noise ...\n",
      "Optimization Iteration:      0, Training Accuracy:  75.0%\n",
      "Optimization Iteration:    100, Training Accuracy:  89.1%\n",
      "Optimization Iteration:    199, Training Accuracy:  95.3%\n",
      "Time usage: 0:00:07\n",
      "\n",
      "Accuracy on Test-Set: 93.0% (9302 / 10000)\n"
     ]
    }
   ],
   "source": [
    "make_immune(target_cls=3)"
   ]
  },
  {
   "cell_type": "markdown",
   "metadata": {},
   "source": [
    "### Make immune to noise for all target-classes\n",
    "\n",
    "Now try and make the neural network immune to adversarial noise for all target-classes. Unfortunately this does not seem to work so well."
   ]
  },
  {
   "cell_type": "code",
   "execution_count": 55,
   "metadata": {},
   "outputs": [
    {
     "name": "stdout",
     "output_type": "stream",
     "text": [
      "Target-class: 0\n",
      "Finding adversarial noise ...\n",
      "Optimization Iteration:      0, Training Accuracy:   9.4%\n",
      "Optimization Iteration:    100, Training Accuracy:  75.0%\n",
      "Optimization Iteration:    200, Training Accuracy:  76.6%\n",
      "Optimization Iteration:    300, Training Accuracy:  82.8%\n",
      "Optimization Iteration:    400, Training Accuracy:  85.9%\n",
      "Optimization Iteration:    499, Training Accuracy:  85.9%\n",
      "Time usage: 0:00:01\n",
      "\n",
      "Accuracy on Test-Set: 24.6% (2464 / 10000)\n",
      "\n",
      "Making the neural network immune to the noise ...\n",
      "Optimization Iteration:      0, Training Accuracy:  37.5%\n",
      "Optimization Iteration:    100, Training Accuracy:  93.8%\n",
      "Optimization Iteration:    199, Training Accuracy:  98.4%\n",
      "Time usage: 0:00:01\n",
      "\n",
      "Accuracy on Test-Set: 93.9% (9387 / 10000)\n",
      "\n",
      "Target-class: 1\n",
      "Finding adversarial noise ...\n",
      "Optimization Iteration:      0, Training Accuracy:   7.8%\n",
      "Optimization Iteration:    100, Training Accuracy:  62.5%\n",
      "Optimization Iteration:    200, Training Accuracy:  78.1%\n",
      "Optimization Iteration:    300, Training Accuracy:  65.6%\n",
      "Optimization Iteration:    400, Training Accuracy:  78.1%\n",
      "Optimization Iteration:    499, Training Accuracy:  71.9%\n",
      "Time usage: 0:00:01\n",
      "\n",
      "Accuracy on Test-Set: 32.6% (3260 / 10000)\n",
      "\n",
      "Making the neural network immune to the noise ...\n",
      "Optimization Iteration:      0, Training Accuracy:  45.3%\n",
      "Optimization Iteration:    100, Training Accuracy:  93.8%\n",
      "Optimization Iteration:    199, Training Accuracy:  96.9%\n",
      "Time usage: 0:00:01\n",
      "\n",
      "Accuracy on Test-Set: 94.0% (9401 / 10000)\n",
      "\n",
      "Target-class: 2\n",
      "Finding adversarial noise ...\n",
      "Optimization Iteration:      0, Training Accuracy:   9.4%\n",
      "Optimization Iteration:    100, Training Accuracy:  57.8%\n",
      "Optimization Iteration:    200, Training Accuracy:  81.2%\n",
      "Optimization Iteration:    300, Training Accuracy:  73.4%\n",
      "Optimization Iteration:    400, Training Accuracy:  87.5%\n",
      "Optimization Iteration:    499, Training Accuracy:  79.7%\n",
      "Time usage: 0:00:01\n",
      "\n",
      "Accuracy on Test-Set: 26.2% (2620 / 10000)\n",
      "\n",
      "Making the neural network immune to the noise ...\n",
      "Optimization Iteration:      0, Training Accuracy:  37.5%\n",
      "Optimization Iteration:    100, Training Accuracy:  95.3%\n",
      "Optimization Iteration:    199, Training Accuracy:  95.3%\n",
      "Time usage: 0:00:01\n",
      "\n",
      "Accuracy on Test-Set: 93.8% (9380 / 10000)\n",
      "\n",
      "Target-class: 3\n",
      "Finding adversarial noise ...\n",
      "Optimization Iteration:      0, Training Accuracy:  14.1%\n",
      "Optimization Iteration:    100, Training Accuracy:  50.0%\n",
      "Optimization Iteration:    200, Training Accuracy:  57.8%\n",
      "Optimization Iteration:    300, Training Accuracy:  59.4%\n",
      "Optimization Iteration:    400, Training Accuracy:  64.1%\n",
      "Optimization Iteration:    499, Training Accuracy:  59.4%\n",
      "Time usage: 0:00:01\n",
      "\n",
      "Accuracy on Test-Set: 46.3% (4631 / 10000)\n",
      "\n",
      "Making the neural network immune to the noise ...\n",
      "Optimization Iteration:      0, Training Accuracy:  46.9%\n",
      "Optimization Iteration:    100, Training Accuracy:  95.3%\n",
      "Optimization Iteration:    199, Training Accuracy:  90.6%\n",
      "Time usage: 0:00:01\n",
      "\n",
      "Accuracy on Test-Set: 93.6% (9358 / 10000)\n",
      "\n",
      "Target-class: 4\n",
      "Finding adversarial noise ...\n",
      "Optimization Iteration:      0, Training Accuracy:   9.4%\n",
      "Optimization Iteration:    100, Training Accuracy:  82.8%\n",
      "Optimization Iteration:    200, Training Accuracy:  92.2%\n",
      "Optimization Iteration:    300, Training Accuracy:  90.6%\n",
      "Optimization Iteration:    400, Training Accuracy:  93.8%\n",
      "Optimization Iteration:    499, Training Accuracy:  95.3%\n",
      "Time usage: 0:00:01\n",
      "\n",
      "Accuracy on Test-Set: 16.9% (1689 / 10000)\n",
      "\n",
      "Making the neural network immune to the noise ...\n",
      "Optimization Iteration:      0, Training Accuracy:  18.8%\n",
      "Optimization Iteration:    100, Training Accuracy:  95.3%\n",
      "Optimization Iteration:    199, Training Accuracy:  92.2%\n",
      "Time usage: 0:00:00\n",
      "\n",
      "Accuracy on Test-Set: 93.3% (9332 / 10000)\n",
      "\n",
      "Target-class: 5\n",
      "Finding adversarial noise ...\n",
      "Optimization Iteration:      0, Training Accuracy:  10.9%\n",
      "Optimization Iteration:    100, Training Accuracy:  65.6%\n",
      "Optimization Iteration:    200, Training Accuracy:  71.9%\n",
      "Optimization Iteration:    300, Training Accuracy:  78.1%\n",
      "Optimization Iteration:    400, Training Accuracy:  75.0%\n",
      "Optimization Iteration:    499, Training Accuracy:  76.6%\n",
      "Time usage: 0:00:01\n",
      "\n",
      "Accuracy on Test-Set: 26.4% (2638 / 10000)\n",
      "\n",
      "Making the neural network immune to the noise ...\n",
      "Optimization Iteration:      0, Training Accuracy:  29.7%\n",
      "Optimization Iteration:    100, Training Accuracy:  92.2%\n",
      "Optimization Iteration:    199, Training Accuracy:  93.8%\n",
      "Time usage: 0:00:00\n",
      "\n",
      "Accuracy on Test-Set: 94.1% (9407 / 10000)\n",
      "\n",
      "Target-class: 6\n",
      "Finding adversarial noise ...\n",
      "Optimization Iteration:      0, Training Accuracy:   6.2%\n",
      "Optimization Iteration:    100, Training Accuracy:  85.9%\n",
      "Optimization Iteration:    200, Training Accuracy:  90.6%\n",
      "Optimization Iteration:    300, Training Accuracy:  93.8%\n",
      "Optimization Iteration:    400, Training Accuracy:  89.1%\n",
      "Optimization Iteration:    499, Training Accuracy:  89.1%\n",
      "Time usage: 0:00:01\n",
      "\n",
      "Accuracy on Test-Set: 15.8% (1584 / 10000)\n",
      "\n",
      "Making the neural network immune to the noise ...\n",
      "Optimization Iteration:      0, Training Accuracy:  17.2%\n",
      "Optimization Iteration:    100, Training Accuracy:  90.6%\n",
      "Optimization Iteration:    199, Training Accuracy:  93.8%\n",
      "Time usage: 0:00:01\n",
      "\n",
      "Accuracy on Test-Set: 93.8% (9385 / 10000)\n",
      "\n",
      "Target-class: 7\n",
      "Finding adversarial noise ...\n",
      "Optimization Iteration:      0, Training Accuracy:  10.9%\n",
      "Optimization Iteration:    100, Training Accuracy:  96.9%\n",
      "Optimization Iteration:    200, Training Accuracy:  98.4%\n",
      "Optimization Iteration:    300, Training Accuracy:  96.9%\n",
      "Optimization Iteration:    400, Training Accuracy:  96.9%\n",
      "Optimization Iteration:    499, Training Accuracy:  98.4%\n",
      "Time usage: 0:00:01\n",
      "\n",
      "Accuracy on Test-Set: 13.2% (1319 / 10000)\n",
      "\n",
      "Making the neural network immune to the noise ...\n",
      "Optimization Iteration:      0, Training Accuracy:  23.4%\n",
      "Optimization Iteration:    100, Training Accuracy:  93.8%\n",
      "Optimization Iteration:    199, Training Accuracy:  90.6%\n",
      "Time usage: 0:00:00\n",
      "\n",
      "Accuracy on Test-Set: 93.6% (9357 / 10000)\n",
      "\n",
      "Target-class: 8\n",
      "Finding adversarial noise ...\n",
      "Optimization Iteration:      0, Training Accuracy:   9.4%\n",
      "Optimization Iteration:    100, Training Accuracy:  68.8%\n",
      "Optimization Iteration:    200, Training Accuracy:  73.4%\n",
      "Optimization Iteration:    300, Training Accuracy:  89.1%\n",
      "Optimization Iteration:    400, Training Accuracy:  89.1%\n",
      "Optimization Iteration:    499, Training Accuracy:  76.6%\n",
      "Time usage: 0:00:01\n",
      "\n",
      "Accuracy on Test-Set: 26.9% (2694 / 10000)\n",
      "\n",
      "Making the neural network immune to the noise ...\n",
      "Optimization Iteration:      0, Training Accuracy:  23.4%\n",
      "Optimization Iteration:    100, Training Accuracy:  95.3%\n",
      "Optimization Iteration:    199, Training Accuracy:  95.3%\n",
      "Time usage: 0:00:01\n",
      "\n",
      "Accuracy on Test-Set: 94.5% (9452 / 10000)\n",
      "\n",
      "Target-class: 9\n",
      "Finding adversarial noise ...\n",
      "Optimization Iteration:      0, Training Accuracy:   9.4%\n",
      "Optimization Iteration:    100, Training Accuracy:  48.4%\n",
      "Optimization Iteration:    200, Training Accuracy:  51.6%\n",
      "Optimization Iteration:    300, Training Accuracy:  51.6%\n",
      "Optimization Iteration:    400, Training Accuracy:  53.1%\n",
      "Optimization Iteration:    499, Training Accuracy:  50.0%\n",
      "Time usage: 0:00:01\n",
      "\n",
      "Accuracy on Test-Set: 46.6% (4657 / 10000)\n",
      "\n",
      "Making the neural network immune to the noise ...\n",
      "Optimization Iteration:      0, Training Accuracy:  50.0%\n",
      "Optimization Iteration:    100, Training Accuracy:  89.1%\n",
      "Optimization Iteration:    199, Training Accuracy:  93.8%\n",
      "Time usage: 0:00:00\n",
      "\n",
      "Accuracy on Test-Set: 94.6% (9462 / 10000)\n",
      "\n"
     ]
    }
   ],
   "source": [
    "for i in range(10):\n",
    "    make_immune(target_cls=i)\n",
    "    \n",
    "    # Print newline.\n",
    "    print()"
   ]
  },
  {
   "cell_type": "markdown",
   "metadata": {},
   "source": [
    "### Make immune to all target-classes (double runs)\n",
    "\n",
    "Now try and use double-runs to make the neural network immune to adversarial noise for all target-classes. Unfortunately this does not seem to work so well either.\n",
    "\n",
    "Making the neural network immune to one adversarial target-class appears to cancel the immunity towards the other target-classes."
   ]
  },
  {
   "cell_type": "code",
   "execution_count": 56,
   "metadata": {},
   "outputs": [
    {
     "name": "stdout",
     "output_type": "stream",
     "text": [
      "Target-class: 0\n",
      "Finding adversarial noise ...\n",
      "Optimization Iteration:      0, Training Accuracy:  15.6%\n",
      "Optimization Iteration:    100, Training Accuracy:  73.4%\n",
      "Optimization Iteration:    200, Training Accuracy:  78.1%\n",
      "Optimization Iteration:    300, Training Accuracy:  93.8%\n",
      "Optimization Iteration:    400, Training Accuracy:  84.4%\n",
      "Optimization Iteration:    499, Training Accuracy:  87.5%\n",
      "Time usage: 0:00:12\n",
      "\n",
      "Accuracy on Test-Set: 23.1% (2313 / 10000)\n",
      "\n",
      "Making the neural network immune to the noise ...\n",
      "Optimization Iteration:      0, Training Accuracy:  28.1%\n",
      "Optimization Iteration:    100, Training Accuracy:  95.3%\n",
      "Optimization Iteration:    199, Training Accuracy:  93.8%\n",
      "Time usage: 0:00:07\n",
      "\n",
      "Accuracy on Test-Set: 94.5% (9451 / 10000)\n",
      "\n",
      "Target-class: 0\n",
      "Finding adversarial noise ...\n",
      "Optimization Iteration:      0, Training Accuracy:   6.2%\n",
      "Optimization Iteration:    100, Training Accuracy:  10.9%\n",
      "Optimization Iteration:    200, Training Accuracy:   7.8%\n",
      "Optimization Iteration:    300, Training Accuracy:  10.9%\n",
      "Optimization Iteration:    400, Training Accuracy:   4.7%\n",
      "Optimization Iteration:    499, Training Accuracy:  12.5%\n",
      "Time usage: 0:00:12\n",
      "\n",
      "Accuracy on Test-Set: 91.9% (9193 / 10000)\n",
      "\n",
      "Making the neural network immune to the noise ...\n",
      "Optimization Iteration:      0, Training Accuracy:  85.9%\n",
      "Optimization Iteration:    100, Training Accuracy:  96.9%\n",
      "Optimization Iteration:    199, Training Accuracy:  92.2%\n",
      "Time usage: 0:00:08\n",
      "\n",
      "Accuracy on Test-Set: 94.9% (9492 / 10000)\n",
      "\n",
      "Target-class: 1\n",
      "Finding adversarial noise ...\n",
      "Optimization Iteration:      0, Training Accuracy:   7.8%\n",
      "Optimization Iteration:    100, Training Accuracy:  42.2%\n",
      "Optimization Iteration:    200, Training Accuracy:  53.1%\n",
      "Optimization Iteration:    300, Training Accuracy:  70.3%\n",
      "Optimization Iteration:    400, Training Accuracy:  65.6%\n",
      "Optimization Iteration:    499, Training Accuracy:  57.8%\n",
      "Time usage: 0:00:13\n",
      "\n",
      "Accuracy on Test-Set: 40.3% (4028 / 10000)\n",
      "\n",
      "Making the neural network immune to the noise ...\n",
      "Optimization Iteration:      0, Training Accuracy:  50.0%\n",
      "Optimization Iteration:    100, Training Accuracy:  90.6%\n",
      "Optimization Iteration:    199, Training Accuracy:  95.3%\n",
      "Time usage: 0:00:08\n",
      "\n",
      "Accuracy on Test-Set: 94.6% (9457 / 10000)\n",
      "\n",
      "Target-class: 1\n",
      "Finding adversarial noise ...\n",
      "Optimization Iteration:      0, Training Accuracy:  23.4%\n",
      "Optimization Iteration:    100, Training Accuracy:  10.9%\n",
      "Optimization Iteration:    200, Training Accuracy:  10.9%\n",
      "Optimization Iteration:    300, Training Accuracy:  15.6%\n",
      "Optimization Iteration:    400, Training Accuracy:  17.2%\n",
      "Optimization Iteration:    499, Training Accuracy:  12.5%\n",
      "Time usage: 0:00:12\n",
      "\n",
      "Accuracy on Test-Set: 91.9% (9191 / 10000)\n",
      "\n",
      "Making the neural network immune to the noise ...\n",
      "Optimization Iteration:      0, Training Accuracy:  90.6%\n",
      "Optimization Iteration:    100, Training Accuracy:  89.1%\n",
      "Optimization Iteration:    199, Training Accuracy:  93.8%\n",
      "Time usage: 0:00:08\n",
      "\n",
      "Accuracy on Test-Set: 95.3% (9526 / 10000)\n",
      "\n",
      "Target-class: 2\n",
      "Finding adversarial noise ...\n",
      "Optimization Iteration:      0, Training Accuracy:   4.7%\n",
      "Optimization Iteration:    100, Training Accuracy:  65.6%\n",
      "Optimization Iteration:    200, Training Accuracy:  81.2%\n",
      "Optimization Iteration:    300, Training Accuracy:  87.5%\n",
      "Optimization Iteration:    400, Training Accuracy:  87.5%\n",
      "Optimization Iteration:    499, Training Accuracy:  90.6%\n",
      "Time usage: 0:00:13\n",
      "\n",
      "Accuracy on Test-Set: 21.4% (2143 / 10000)\n",
      "\n",
      "Making the neural network immune to the noise ...\n",
      "Optimization Iteration:      0, Training Accuracy:  34.4%\n",
      "Optimization Iteration:    100, Training Accuracy:  96.9%\n",
      "Optimization Iteration:    199, Training Accuracy:  93.8%\n",
      "Time usage: 0:00:08\n",
      "\n",
      "Accuracy on Test-Set: 94.8% (9476 / 10000)\n",
      "\n",
      "Target-class: 2\n",
      "Finding adversarial noise ...\n",
      "Optimization Iteration:      0, Training Accuracy:   4.7%\n",
      "Optimization Iteration:    100, Training Accuracy:  12.5%\n",
      "Optimization Iteration:    200, Training Accuracy:   6.2%\n",
      "Optimization Iteration:    300, Training Accuracy:  18.8%\n",
      "Optimization Iteration:    400, Training Accuracy:  17.2%\n",
      "Optimization Iteration:    499, Training Accuracy:  18.8%\n",
      "Time usage: 0:00:13\n",
      "\n",
      "Accuracy on Test-Set: 91.8% (9180 / 10000)\n",
      "\n",
      "Making the neural network immune to the noise ...\n",
      "Optimization Iteration:      0, Training Accuracy:  93.8%\n",
      "Optimization Iteration:    100, Training Accuracy:  95.3%\n",
      "Optimization Iteration:    199, Training Accuracy:  95.3%\n",
      "Time usage: 0:00:08\n",
      "\n",
      "Accuracy on Test-Set: 95.2% (9524 / 10000)\n",
      "\n",
      "Target-class: 3\n",
      "Finding adversarial noise ...\n",
      "Optimization Iteration:      0, Training Accuracy:   7.8%\n",
      "Optimization Iteration:    100, Training Accuracy:  21.9%\n",
      "Optimization Iteration:    200, Training Accuracy:  39.1%\n",
      "Optimization Iteration:    300, Training Accuracy:  37.5%\n",
      "Optimization Iteration:    400, Training Accuracy:  54.7%\n",
      "Optimization Iteration:    499, Training Accuracy:  45.3%\n",
      "Time usage: 0:00:12\n",
      "\n",
      "Accuracy on Test-Set: 58.7% (5873 / 10000)\n",
      "\n",
      "Making the neural network immune to the noise ...\n",
      "Optimization Iteration:      0, Training Accuracy:  70.3%\n",
      "Optimization Iteration:    100, Training Accuracy:  95.3%\n",
      "Optimization Iteration:    199, Training Accuracy:  93.8%\n",
      "Time usage: 0:00:07\n",
      "\n",
      "Accuracy on Test-Set: 95.3% (9526 / 10000)\n",
      "\n",
      "Target-class: 3\n",
      "Finding adversarial noise ...\n",
      "Optimization Iteration:      0, Training Accuracy:   6.2%\n",
      "Optimization Iteration:    100, Training Accuracy:  17.2%\n",
      "Optimization Iteration:    200, Training Accuracy:  12.5%\n",
      "Optimization Iteration:    300, Training Accuracy:  14.1%\n",
      "Optimization Iteration:    400, Training Accuracy:  12.5%\n",
      "Optimization Iteration:    499, Training Accuracy:  10.9%\n",
      "Time usage: 0:00:12\n",
      "\n",
      "Accuracy on Test-Set: 93.9% (9392 / 10000)\n",
      "\n",
      "Making the neural network immune to the noise ...\n",
      "Optimization Iteration:      0, Training Accuracy:  93.8%\n",
      "Optimization Iteration:    100, Training Accuracy:  93.8%\n",
      "Optimization Iteration:    199, Training Accuracy:  95.3%\n",
      "Time usage: 0:00:08\n",
      "\n",
      "Accuracy on Test-Set: 95.7% (9566 / 10000)\n",
      "\n",
      "Target-class: 4\n",
      "Finding adversarial noise ...\n",
      "Optimization Iteration:      0, Training Accuracy:   9.4%\n",
      "Optimization Iteration:    100, Training Accuracy:  79.7%\n",
      "Optimization Iteration:    200, Training Accuracy:  90.6%\n",
      "Optimization Iteration:    300, Training Accuracy:  87.5%\n",
      "Optimization Iteration:    400, Training Accuracy:  92.2%\n",
      "Optimization Iteration:    499, Training Accuracy:  90.6%\n",
      "Time usage: 0:00:12\n",
      "\n",
      "Accuracy on Test-Set: 15.9% (1587 / 10000)\n",
      "\n",
      "Making the neural network immune to the noise ...\n",
      "Optimization Iteration:      0, Training Accuracy:  14.1%\n",
      "Optimization Iteration:    100, Training Accuracy:  93.8%\n",
      "Optimization Iteration:    199, Training Accuracy:  98.4%\n",
      "Time usage: 0:00:07\n",
      "\n",
      "Accuracy on Test-Set: 95.3% (9530 / 10000)\n",
      "\n",
      "Target-class: 4\n",
      "Finding adversarial noise ...\n",
      "Optimization Iteration:      0, Training Accuracy:  10.9%\n",
      "Optimization Iteration:    100, Training Accuracy:  12.5%\n",
      "Optimization Iteration:    200, Training Accuracy:   9.4%\n",
      "Optimization Iteration:    300, Training Accuracy:  17.2%\n",
      "Optimization Iteration:    400, Training Accuracy:  14.1%\n",
      "Optimization Iteration:    499, Training Accuracy:  10.9%\n",
      "Time usage: 0:00:12\n",
      "\n",
      "Accuracy on Test-Set: 89.3% (8932 / 10000)\n",
      "\n",
      "Making the neural network immune to the noise ...\n",
      "Optimization Iteration:      0, Training Accuracy:  92.2%\n",
      "Optimization Iteration:    100, Training Accuracy:  96.9%\n",
      "Optimization Iteration:    199, Training Accuracy:  93.8%\n",
      "Time usage: 0:00:07\n",
      "\n",
      "Accuracy on Test-Set: 95.1% (9512 / 10000)\n",
      "\n",
      "Target-class: 5\n",
      "Finding adversarial noise ...\n",
      "Optimization Iteration:      0, Training Accuracy:   7.8%\n",
      "Optimization Iteration:    100, Training Accuracy:  75.0%\n",
      "Optimization Iteration:    200, Training Accuracy:  87.5%\n",
      "Optimization Iteration:    300, Training Accuracy:  78.1%\n",
      "Optimization Iteration:    400, Training Accuracy:  90.6%\n",
      "Optimization Iteration:    499, Training Accuracy:  90.6%\n",
      "Time usage: 0:00:12\n",
      "\n",
      "Accuracy on Test-Set: 19.3% (1930 / 10000)\n",
      "\n",
      "Making the neural network immune to the noise ...\n",
      "Optimization Iteration:      0, Training Accuracy:  20.3%\n",
      "Optimization Iteration:    100, Training Accuracy:  96.9%\n",
      "Optimization Iteration:    199, Training Accuracy:  92.2%\n",
      "Time usage: 0:00:08\n",
      "\n",
      "Accuracy on Test-Set: 95.4% (9541 / 10000)\n",
      "\n",
      "Target-class: 5\n",
      "Finding adversarial noise ...\n",
      "Optimization Iteration:      0, Training Accuracy:  10.9%\n"
     ]
    },
    {
     "name": "stdout",
     "output_type": "stream",
     "text": [
      "Optimization Iteration:    100, Training Accuracy:  12.5%\n",
      "Optimization Iteration:    200, Training Accuracy:   9.4%\n",
      "Optimization Iteration:    300, Training Accuracy:   4.7%\n",
      "Optimization Iteration:    400, Training Accuracy:  15.6%\n",
      "Optimization Iteration:    499, Training Accuracy:  20.3%\n",
      "Time usage: 0:00:12\n",
      "\n",
      "Accuracy on Test-Set: 92.4% (9242 / 10000)\n",
      "\n",
      "Making the neural network immune to the noise ...\n",
      "Optimization Iteration:      0, Training Accuracy:  92.2%\n"
     ]
    },
    {
     "ename": "KeyboardInterrupt",
     "evalue": "",
     "output_type": "error",
     "traceback": [
      "\u001b[1;31m---------------------------------------------------------------------------\u001b[0m",
      "\u001b[1;31mKeyboardInterrupt\u001b[0m                         Traceback (most recent call last)",
      "\u001b[1;32m<ipython-input-56-c6018b244f82>\u001b[0m in \u001b[0;36m<module>\u001b[1;34m\u001b[0m\n\u001b[0;32m      5\u001b[0m     \u001b[0mprint\u001b[0m\u001b[1;33m(\u001b[0m\u001b[1;33m)\u001b[0m\u001b[1;33m\u001b[0m\u001b[1;33m\u001b[0m\u001b[0m\n\u001b[0;32m      6\u001b[0m \u001b[1;33m\u001b[0m\u001b[0m\n\u001b[1;32m----> 7\u001b[1;33m     \u001b[0mmake_immune\u001b[0m\u001b[1;33m(\u001b[0m\u001b[0mtarget_cls\u001b[0m\u001b[1;33m=\u001b[0m\u001b[0mi\u001b[0m\u001b[1;33m)\u001b[0m\u001b[1;33m\u001b[0m\u001b[1;33m\u001b[0m\u001b[0m\n\u001b[0m\u001b[0;32m      8\u001b[0m \u001b[1;33m\u001b[0m\u001b[0m\n\u001b[0;32m      9\u001b[0m     \u001b[1;31m# Print newline.\u001b[0m\u001b[1;33m\u001b[0m\u001b[1;33m\u001b[0m\u001b[1;33m\u001b[0m\u001b[0m\n",
      "\u001b[1;32m<ipython-input-53-aeb8526dc4eb>\u001b[0m in \u001b[0;36mmake_immune\u001b[1;34m(target_cls, num_iterations_adversary, num_iterations_immune)\u001b[0m\n\u001b[0;32m     25\u001b[0m     \u001b[1;31m# so the x_noise variable still holds the noise.\u001b[0m\u001b[1;33m\u001b[0m\u001b[1;33m\u001b[0m\u001b[1;33m\u001b[0m\u001b[0m\n\u001b[0;32m     26\u001b[0m     \u001b[1;31m# So we are training the neural network to ignore the noise.\u001b[0m\u001b[1;33m\u001b[0m\u001b[1;33m\u001b[0m\u001b[1;33m\u001b[0m\u001b[0m\n\u001b[1;32m---> 27\u001b[1;33m     \u001b[0moptimize\u001b[0m\u001b[1;33m(\u001b[0m\u001b[0mnum_iterations\u001b[0m\u001b[1;33m=\u001b[0m\u001b[0mnum_iterations_immune\u001b[0m\u001b[1;33m)\u001b[0m\u001b[1;33m\u001b[0m\u001b[1;33m\u001b[0m\u001b[0m\n\u001b[0m\u001b[0;32m     28\u001b[0m \u001b[1;33m\u001b[0m\u001b[0m\n\u001b[0;32m     29\u001b[0m     \u001b[1;31m# Newline.\u001b[0m\u001b[1;33m\u001b[0m\u001b[1;33m\u001b[0m\u001b[1;33m\u001b[0m\u001b[0m\n",
      "\u001b[1;32m<ipython-input-37-c12229693a6a>\u001b[0m in \u001b[0;36moptimize\u001b[1;34m(num_iterations, adversary_target_cls)\u001b[0m\n\u001b[0;32m     31\u001b[0m             \u001b[1;31m# TensorFlow assigns the variables in feed_dict_train\u001b[0m\u001b[1;33m\u001b[0m\u001b[1;33m\u001b[0m\u001b[1;33m\u001b[0m\u001b[0m\n\u001b[0;32m     32\u001b[0m             \u001b[1;31m# to the placeholder variables and then runs the optimizer.\u001b[0m\u001b[1;33m\u001b[0m\u001b[1;33m\u001b[0m\u001b[1;33m\u001b[0m\u001b[0m\n\u001b[1;32m---> 33\u001b[1;33m             \u001b[0msession\u001b[0m\u001b[1;33m.\u001b[0m\u001b[0mrun\u001b[0m\u001b[1;33m(\u001b[0m\u001b[0moptimizer\u001b[0m\u001b[1;33m,\u001b[0m \u001b[0mfeed_dict\u001b[0m\u001b[1;33m=\u001b[0m\u001b[0mfeed_dict_train\u001b[0m\u001b[1;33m)\u001b[0m\u001b[1;33m\u001b[0m\u001b[1;33m\u001b[0m\u001b[0m\n\u001b[0m\u001b[0;32m     34\u001b[0m         \u001b[1;32melse\u001b[0m\u001b[1;33m:\u001b[0m\u001b[1;33m\u001b[0m\u001b[1;33m\u001b[0m\u001b[0m\n\u001b[0;32m     35\u001b[0m             \u001b[1;31m# Run the adversarial optimizer instead.\u001b[0m\u001b[1;33m\u001b[0m\u001b[1;33m\u001b[0m\u001b[1;33m\u001b[0m\u001b[0m\n",
      "\u001b[1;32m~\\anaconda3\\envs\\hvass-tut-1\\lib\\site-packages\\tensorflow_core\\python\\client\\session.py\u001b[0m in \u001b[0;36mrun\u001b[1;34m(self, fetches, feed_dict, options, run_metadata)\u001b[0m\n\u001b[0;32m    954\u001b[0m     \u001b[1;32mtry\u001b[0m\u001b[1;33m:\u001b[0m\u001b[1;33m\u001b[0m\u001b[1;33m\u001b[0m\u001b[0m\n\u001b[0;32m    955\u001b[0m       result = self._run(None, fetches, feed_dict, options_ptr,\n\u001b[1;32m--> 956\u001b[1;33m                          run_metadata_ptr)\n\u001b[0m\u001b[0;32m    957\u001b[0m       \u001b[1;32mif\u001b[0m \u001b[0mrun_metadata\u001b[0m\u001b[1;33m:\u001b[0m\u001b[1;33m\u001b[0m\u001b[1;33m\u001b[0m\u001b[0m\n\u001b[0;32m    958\u001b[0m         \u001b[0mproto_data\u001b[0m \u001b[1;33m=\u001b[0m \u001b[0mtf_session\u001b[0m\u001b[1;33m.\u001b[0m\u001b[0mTF_GetBuffer\u001b[0m\u001b[1;33m(\u001b[0m\u001b[0mrun_metadata_ptr\u001b[0m\u001b[1;33m)\u001b[0m\u001b[1;33m\u001b[0m\u001b[1;33m\u001b[0m\u001b[0m\n",
      "\u001b[1;32m~\\anaconda3\\envs\\hvass-tut-1\\lib\\site-packages\\tensorflow_core\\python\\client\\session.py\u001b[0m in \u001b[0;36m_run\u001b[1;34m(self, handle, fetches, feed_dict, options, run_metadata)\u001b[0m\n\u001b[0;32m   1178\u001b[0m     \u001b[1;32mif\u001b[0m \u001b[0mfinal_fetches\u001b[0m \u001b[1;32mor\u001b[0m \u001b[0mfinal_targets\u001b[0m \u001b[1;32mor\u001b[0m \u001b[1;33m(\u001b[0m\u001b[0mhandle\u001b[0m \u001b[1;32mand\u001b[0m \u001b[0mfeed_dict_tensor\u001b[0m\u001b[1;33m)\u001b[0m\u001b[1;33m:\u001b[0m\u001b[1;33m\u001b[0m\u001b[1;33m\u001b[0m\u001b[0m\n\u001b[0;32m   1179\u001b[0m       results = self._do_run(handle, final_targets, final_fetches,\n\u001b[1;32m-> 1180\u001b[1;33m                              feed_dict_tensor, options, run_metadata)\n\u001b[0m\u001b[0;32m   1181\u001b[0m     \u001b[1;32melse\u001b[0m\u001b[1;33m:\u001b[0m\u001b[1;33m\u001b[0m\u001b[1;33m\u001b[0m\u001b[0m\n\u001b[0;32m   1182\u001b[0m       \u001b[0mresults\u001b[0m \u001b[1;33m=\u001b[0m \u001b[1;33m[\u001b[0m\u001b[1;33m]\u001b[0m\u001b[1;33m\u001b[0m\u001b[1;33m\u001b[0m\u001b[0m\n",
      "\u001b[1;32m~\\anaconda3\\envs\\hvass-tut-1\\lib\\site-packages\\tensorflow_core\\python\\client\\session.py\u001b[0m in \u001b[0;36m_do_run\u001b[1;34m(self, handle, target_list, fetch_list, feed_dict, options, run_metadata)\u001b[0m\n\u001b[0;32m   1357\u001b[0m     \u001b[1;32mif\u001b[0m \u001b[0mhandle\u001b[0m \u001b[1;32mis\u001b[0m \u001b[1;32mNone\u001b[0m\u001b[1;33m:\u001b[0m\u001b[1;33m\u001b[0m\u001b[1;33m\u001b[0m\u001b[0m\n\u001b[0;32m   1358\u001b[0m       return self._do_call(_run_fn, feeds, fetches, targets, options,\n\u001b[1;32m-> 1359\u001b[1;33m                            run_metadata)\n\u001b[0m\u001b[0;32m   1360\u001b[0m     \u001b[1;32melse\u001b[0m\u001b[1;33m:\u001b[0m\u001b[1;33m\u001b[0m\u001b[1;33m\u001b[0m\u001b[0m\n\u001b[0;32m   1361\u001b[0m       \u001b[1;32mreturn\u001b[0m \u001b[0mself\u001b[0m\u001b[1;33m.\u001b[0m\u001b[0m_do_call\u001b[0m\u001b[1;33m(\u001b[0m\u001b[0m_prun_fn\u001b[0m\u001b[1;33m,\u001b[0m \u001b[0mhandle\u001b[0m\u001b[1;33m,\u001b[0m \u001b[0mfeeds\u001b[0m\u001b[1;33m,\u001b[0m \u001b[0mfetches\u001b[0m\u001b[1;33m)\u001b[0m\u001b[1;33m\u001b[0m\u001b[1;33m\u001b[0m\u001b[0m\n",
      "\u001b[1;32m~\\anaconda3\\envs\\hvass-tut-1\\lib\\site-packages\\tensorflow_core\\python\\client\\session.py\u001b[0m in \u001b[0;36m_do_call\u001b[1;34m(self, fn, *args)\u001b[0m\n\u001b[0;32m   1363\u001b[0m   \u001b[1;32mdef\u001b[0m \u001b[0m_do_call\u001b[0m\u001b[1;33m(\u001b[0m\u001b[0mself\u001b[0m\u001b[1;33m,\u001b[0m \u001b[0mfn\u001b[0m\u001b[1;33m,\u001b[0m \u001b[1;33m*\u001b[0m\u001b[0margs\u001b[0m\u001b[1;33m)\u001b[0m\u001b[1;33m:\u001b[0m\u001b[1;33m\u001b[0m\u001b[1;33m\u001b[0m\u001b[0m\n\u001b[0;32m   1364\u001b[0m     \u001b[1;32mtry\u001b[0m\u001b[1;33m:\u001b[0m\u001b[1;33m\u001b[0m\u001b[1;33m\u001b[0m\u001b[0m\n\u001b[1;32m-> 1365\u001b[1;33m       \u001b[1;32mreturn\u001b[0m \u001b[0mfn\u001b[0m\u001b[1;33m(\u001b[0m\u001b[1;33m*\u001b[0m\u001b[0margs\u001b[0m\u001b[1;33m)\u001b[0m\u001b[1;33m\u001b[0m\u001b[1;33m\u001b[0m\u001b[0m\n\u001b[0m\u001b[0;32m   1366\u001b[0m     \u001b[1;32mexcept\u001b[0m \u001b[0merrors\u001b[0m\u001b[1;33m.\u001b[0m\u001b[0mOpError\u001b[0m \u001b[1;32mas\u001b[0m \u001b[0me\u001b[0m\u001b[1;33m:\u001b[0m\u001b[1;33m\u001b[0m\u001b[1;33m\u001b[0m\u001b[0m\n\u001b[0;32m   1367\u001b[0m       \u001b[0mmessage\u001b[0m \u001b[1;33m=\u001b[0m \u001b[0mcompat\u001b[0m\u001b[1;33m.\u001b[0m\u001b[0mas_text\u001b[0m\u001b[1;33m(\u001b[0m\u001b[0me\u001b[0m\u001b[1;33m.\u001b[0m\u001b[0mmessage\u001b[0m\u001b[1;33m)\u001b[0m\u001b[1;33m\u001b[0m\u001b[1;33m\u001b[0m\u001b[0m\n",
      "\u001b[1;32m~\\anaconda3\\envs\\hvass-tut-1\\lib\\site-packages\\tensorflow_core\\python\\client\\session.py\u001b[0m in \u001b[0;36m_run_fn\u001b[1;34m(feed_dict, fetch_list, target_list, options, run_metadata)\u001b[0m\n\u001b[0;32m   1348\u001b[0m       \u001b[0mself\u001b[0m\u001b[1;33m.\u001b[0m\u001b[0m_extend_graph\u001b[0m\u001b[1;33m(\u001b[0m\u001b[1;33m)\u001b[0m\u001b[1;33m\u001b[0m\u001b[1;33m\u001b[0m\u001b[0m\n\u001b[0;32m   1349\u001b[0m       return self._call_tf_sessionrun(options, feed_dict, fetch_list,\n\u001b[1;32m-> 1350\u001b[1;33m                                       target_list, run_metadata)\n\u001b[0m\u001b[0;32m   1351\u001b[0m \u001b[1;33m\u001b[0m\u001b[0m\n\u001b[0;32m   1352\u001b[0m     \u001b[1;32mdef\u001b[0m \u001b[0m_prun_fn\u001b[0m\u001b[1;33m(\u001b[0m\u001b[0mhandle\u001b[0m\u001b[1;33m,\u001b[0m \u001b[0mfeed_dict\u001b[0m\u001b[1;33m,\u001b[0m \u001b[0mfetch_list\u001b[0m\u001b[1;33m)\u001b[0m\u001b[1;33m:\u001b[0m\u001b[1;33m\u001b[0m\u001b[1;33m\u001b[0m\u001b[0m\n",
      "\u001b[1;32m~\\anaconda3\\envs\\hvass-tut-1\\lib\\site-packages\\tensorflow_core\\python\\client\\session.py\u001b[0m in \u001b[0;36m_call_tf_sessionrun\u001b[1;34m(self, options, feed_dict, fetch_list, target_list, run_metadata)\u001b[0m\n\u001b[0;32m   1441\u001b[0m     return tf_session.TF_SessionRun_wrapper(self._session, options, feed_dict,\n\u001b[0;32m   1442\u001b[0m                                             \u001b[0mfetch_list\u001b[0m\u001b[1;33m,\u001b[0m \u001b[0mtarget_list\u001b[0m\u001b[1;33m,\u001b[0m\u001b[1;33m\u001b[0m\u001b[1;33m\u001b[0m\u001b[0m\n\u001b[1;32m-> 1443\u001b[1;33m                                             run_metadata)\n\u001b[0m\u001b[0;32m   1444\u001b[0m \u001b[1;33m\u001b[0m\u001b[0m\n\u001b[0;32m   1445\u001b[0m   \u001b[1;32mdef\u001b[0m \u001b[0m_call_tf_sessionprun\u001b[0m\u001b[1;33m(\u001b[0m\u001b[0mself\u001b[0m\u001b[1;33m,\u001b[0m \u001b[0mhandle\u001b[0m\u001b[1;33m,\u001b[0m \u001b[0mfeed_dict\u001b[0m\u001b[1;33m,\u001b[0m \u001b[0mfetch_list\u001b[0m\u001b[1;33m)\u001b[0m\u001b[1;33m:\u001b[0m\u001b[1;33m\u001b[0m\u001b[1;33m\u001b[0m\u001b[0m\n",
      "\u001b[1;31mKeyboardInterrupt\u001b[0m: "
     ]
    }
   ],
   "source": [
    "for i in range(10):\n",
    "    make_immune(target_cls=i)\n",
    "    \n",
    "    # Print newline.\n",
    "    print()\n",
    "    \n",
    "    make_immune(target_cls=i)\n",
    "\n",
    "    # Print newline.\n",
    "    print()"
   ]
  },
  {
   "cell_type": "markdown",
   "metadata": {},
   "source": [
    "### Plot the adversarial noise"
   ]
  },
  {
   "cell_type": "markdown",
   "metadata": {},
   "source": [
    "We have now performed many optimizations of both the neural network and the adversarial noise. Let us see how the adversarial noise looks now."
   ]
  },
  {
   "cell_type": "code",
   "execution_count": 57,
   "metadata": {
    "scrolled": true
   },
   "outputs": [
    {
     "name": "stdout",
     "output_type": "stream",
     "text": [
      "Noise:\n",
      "- Min: -0.35\n",
      "- Max: 0.35\n",
      "- Std: 0.2827681\n"
     ]
    },
    {
     "data": {
      "image/png": "[encoded data removed]",
      "text/plain": [
       "<Figure size 432x288 with 1 Axes>"
      ]
     },
     "metadata": {
      "needs_background": "light"
     },
     "output_type": "display_data"
    }
   ],
   "source": [
    "plot_noise()"
   ]
  },
  {
   "cell_type": "markdown",
   "metadata": {},
   "source": [
    "Interestingly, the neural network now has a higher classification accuracy on noisy images than we had on clean images before all these optimizations."
   ]
  },
  {
   "cell_type": "code",
   "execution_count": 58,
   "metadata": {},
   "outputs": [
    {
     "name": "stdout",
     "output_type": "stream",
     "text": [
      "Accuracy on Test-Set: 94.8% (9484 / 10000)\n",
      "Example errors:\n"
     ]
    },
    {
     "data": {
      "image/png": "[encoded data removed]",
      "text/plain": [
       "<Figure size 432x288 with 9 Axes>"
      ]
     },
     "metadata": {},
     "output_type": "display_data"
    },
    {
     "name": "stdout",
     "output_type": "stream",
     "text": [
      "Confusion Matrix:\n",
      "[[ 967    0    2    0    0    2    4    2    3    0]\n",
      " [   0 1119    4    2    0    1    1    0    8    0]\n",
      " [  12    1  965   12    5    1    7   10   19    0]\n",
      " [   1    1    9  960    0   15    0    9   13    2]\n",
      " [   2    4    1    2  923    2   19    4    7   18]\n",
      " [  14    1    0   23    0  809   18    2   24    1]\n",
      " [  12    4    2    1    3    2  933    0    1    0]\n",
      " [   0    9   23    5    3    3    0  970    2   13]\n",
      " [  13    0    5   10    4    7    3    7  915   10]\n",
      " [  10    9    9    6   13    9    2   18   10  923]]\n"
     ]
    }
   ],
   "source": [
    "print_test_accuracy(show_example_errors=True,\n",
    "                    show_confusion_matrix=True)"
   ]
  },
  {
   "cell_type": "markdown",
   "metadata": {},
   "source": [
    "### Performance on clean images\n",
    "\n",
    "Now let us see how the neural network performs on clean images so we reset the adversarial noise to zero."
   ]
  },
  {
   "cell_type": "code",
   "execution_count": 59,
   "metadata": {},
   "outputs": [],
   "source": [
    "init_noise()"
   ]
  },
  {
   "cell_type": "markdown",
   "metadata": {},
   "source": [
    "The neural network now performs worse on clean images compared to noisy images."
   ]
  },
  {
   "cell_type": "code",
   "execution_count": 60,
   "metadata": {},
   "outputs": [
    {
     "name": "stdout",
     "output_type": "stream",
     "text": [
      "Accuracy on Test-Set: 84.5% (8449 / 10000)\n",
      "Example errors:\n"
     ]
    },
    {
     "data": {
      "image/png": "[encoded data removed]",
      "text/plain": [
       "<Figure size 432x288 with 9 Axes>"
      ]
     },
     "metadata": {},
     "output_type": "display_data"
    },
    {
     "name": "stdout",
     "output_type": "stream",
     "text": [
      "Confusion Matrix:\n",
      "[[ 963    3    8    0    0    0    4    1    1    0]\n",
      " [   0 1131    4    0    0    0    0    0    0    0]\n",
      " [   3    6 1014    0    0    0    1    8    0    0]\n",
      " [   2   29  123  807    0    0    0   40    7    2]\n",
      " [   0   30   13    0  898    0   10   11    0   20]\n",
      " [  60   55   35  150    0  239  127   56  136   34]\n",
      " [  10    5    1    0    1    0  941    0    0    0]\n",
      " [   0   13   28    0    0    0    0  987    0    0]\n",
      " [  28   57  166    1    6    0   17   36  661    2]\n",
      " [  12   23   15    2    4    0    1  142    2  808]]\n"
     ]
    }
   ],
   "source": [
    "print_test_accuracy(show_example_errors=True,\n",
    "                    show_confusion_matrix=True)"
   ]
  },
  {
   "cell_type": "markdown",
   "metadata": {},
   "source": [
    "## Close TensorFlow Session"
   ]
  },
  {
   "cell_type": "markdown",
   "metadata": {},
   "source": [
    "We are now done using TensorFlow, so we close the session to release its resources."
   ]
  },
  {
   "cell_type": "code",
   "execution_count": 62,
   "metadata": {},
   "outputs": [],
   "source": [
    "# This has been commented out in case you want to modify and experiment\n",
    "# with the Notebook without having to restart it.\n",
    "session.close()"
   ]
  },
  {
   "cell_type": "markdown",
   "metadata": {},
   "source": [
    "## Discussion"
   ]
  },
  {
   "cell_type": "markdown",
   "metadata": {},
   "source": [
    "We saw in the experiments above that we were able to make the neural network immune to adversarial noise for a single target-class. This made it impossible to find adversarial noise that caused mis-classification to that target-class. But it was apparently not possible to make the neural network immune to all target-classes simultaneously. Perhaps this would be possible using another method.\n",
    "\n",
    "One suggestion would be to interleave the immunity-training for different target-classes, instead of doing a full optimization for each target-class in turn. This should be possible with minor modifications to the source-code above.\n",
    "\n",
    "Another suggestion would be to have two tiers of neural networks with 11 networks in total. The network in the first tier is used for classifying the input image. This network has not been made immune to adversarial noise. Another neural network from the second tier is then selected depending on the predicted class from the first tier. The networks in the second tier have been made immune to adversarial noise for their respective target-classes. So an adversary could fool the network in the first tier with adversarial noise, but the network in the second tier would be immune to noise for that particular target-class.\n",
    "\n",
    "This might work for a small number of classes but it would become infeasible for larger numbers, e.g. the ImageNet data-set has 1000 classes so we would need to train 1000 neural networks for the second tier, which is not practical."
   ]
  },
  {
   "cell_type": "markdown",
   "metadata": {},
   "source": [
    "## Conclusion\n",
    "\n",
    "This tutorial showed how to find adversarial noise for the MNIST data-set of hand-written digits. A single noise-pattern was found for each target-class, which caused almost all input images to become mis-classified as that target-class.\n",
    "\n",
    "The noise-patterns for the MNIST data-set were clearly visible to the human eye. But it is possible that more subtle noise-patterns can be found for larger neural networks that work on higher-resolution images, e.g. the ImageNet data-set.\n",
    "\n",
    "This tutorial also experimented with methods for making the neural network immune to adversarial noise. This worked well for a single target-class but the tested methods were not able to make the neural network simultaneously immune to all adversarial target-classes."
   ]
  },
  {
   "cell_type": "markdown",
   "metadata": {},
   "source": [
    "## Exercises\n",
    "\n",
    "These are a few suggestions for exercises that may help improve your skills with TensorFlow. It is important to get hands-on experience with TensorFlow in order to learn how to use it properly.\n",
    "\n",
    "You may want to backup this Notebook before making any changes.\n",
    "\n",
    "* Try using fewer or more optimization iterations for the adversarial noise.\n",
    "* Why does this tutorial require more optimization iterations than Tutorial #11, which needed less than 30 iterations to find the adversarial noise?\n",
    "* Try different settings for `noise_limit` and `noise_l2_weight`. How does it affect the adversarial noise and classification accuracy?\n",
    "* Try finding the adversarial noise for target-class 1. Does it work as well as for target-class 3?\n",
    "* Can you find a better way to make the neural network immune to adversarial noise?\n",
    "* Is the neural network immune to adversarial noise generated for individual images, as was done in Tutorial #11?\n",
    "* Try making another neural network with a different configuration. Does the adversarial noise for one network also work on another network?\n",
    "* Try using the CIFAR-10 data-set instead of MNIST. You may re-use some of the code from Tutorial #06.\n",
    "* How would you find the adversarial noise for the Inception model and the ImageNet data-set?\n",
    "* Explain to a friend how this program works."
   ]
  },
  {
   "cell_type": "markdown",
   "metadata": {},
   "source": [
    "## License (MIT)\n",
    "\n",
    "Copyright (c) 2016 by [Magnus Erik Hvass Pedersen](http://www.hvass-labs.org/)\n",
    "\n",
    "Permission is hereby granted, free of charge, to any person obtaining a copy of this software and associated documentation files (the \"Software\"), to deal in the Software without restriction, including without limitation the rights to use, copy, modify, merge, publish, distribute, sublicense, and/or sell copies of the Software, and to permit persons to whom the Software is furnished to do so, subject to the following conditions:\n",
    "\n",
    "The above copyright notice and this permission notice shall be included in all copies or substantial portions of the Software.\n",
    "\n",
    "THE SOFTWARE IS PROVIDED \"AS IS\", WITHOUT WARRANTY OF ANY KIND, EXPRESS OR IMPLIED, INCLUDING BUT NOT LIMITED TO THE WARRANTIES OF MERCHANTABILITY, FITNESS FOR A PARTICULAR PURPOSE AND NONINFRINGEMENT. IN NO EVENT SHALL THE AUTHORS OR COPYRIGHT HOLDERS BE LIABLE FOR ANY CLAIM, DAMAGES OR OTHER LIABILITY, WHETHER IN AN ACTION OF CONTRACT, TORT OR OTHERWISE, ARISING FROM, OUT OF OR IN CONNECTION WITH THE SOFTWARE OR THE USE OR OTHER DEALINGS IN THE SOFTWARE."
   ]
  }
 ],
 "metadata": {
  "anaconda-cloud": {},
  "kernelspec": {
   "display_name": "Python 3",
   "language": "python",
   "name": "python3"
  },
  "language_info": {
   "codemirror_mode": {
    "name": "ipython",
    "version": 3
   },
   "file_extension": ".py",
   "mimetype": "text/x-python",
   "name": "python",
   "nbconvert_exporter": "python",
   "pygments_lexer": "ipython3",
   "version": "3.6.12"
  }
 },
 "nbformat": 4,
 "nbformat_minor": 1
}
